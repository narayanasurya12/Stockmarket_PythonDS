{
 "cells": [
  {
   "cell_type": "code",
   "execution_count": 222,
   "id": "6925ad3f-256c-4ab4-9638-a3bfa5d02d3f",
   "metadata": {},
   "outputs": [],
   "source": [
    "### importing and installing Flair library for check sentiment of a text and all other libraries\n",
    "import flair\n",
    "import pandas as pd\n",
    "import matplotlib.pyplot as plt\n",
    "import numpy as np\n",
    "import re\n",
    "import string\n",
    "import nltk\n",
    "import codecs\n",
    "from sklearn.metrics import classification_report,confusion_matrix,accuracy_score"
   ]
  },
  {
   "cell_type": "code",
   "execution_count": null,
   "id": "c62e1b54-9269-49f5-aa0f-c04fdc2686f7",
   "metadata": {},
   "outputs": [],
   "source": [
    "### Install Necussary Packages\n",
    "#!pip install matplotlib\n",
    "#!pip install nltk"
   ]
  },
  {
   "cell_type": "code",
   "execution_count": null,
   "id": "d556a7f9-8a05-4c0e-96cd-cf386b18ccf4",
   "metadata": {},
   "outputs": [],
   "source": [
    "### Download NlTK Related Packages\n",
    "nltk.download('stopwords')\n",
    "nltk.download('punkt')\n",
    "nltk.download('averaged_perceptron_tagger')\n",
    "nltk.download('wordnet')\n",
    "nltk.download('words')"
   ]
  },
  {
   "cell_type": "code",
   "execution_count": 210,
   "id": "49a8208b-4788-454d-a05d-59eb37adb4b1",
   "metadata": {},
   "outputs": [],
   "source": [
    "#### NLTK Modules ####\n",
    "from nltk.tokenize import word_tokenize\n",
    "from nltk import pos_tag\n",
    "from nltk.corpus import stopwords \n",
    "from nltk.stem import WordNetLemmatizer\n",
    "from nltk.corpus import words\n",
    "from sklearn.model_selection import train_test_split\n",
    "\n",
    "lemmatizer = WordNetLemmatizer() \n",
    "english_vocab = set(w.lower() for w in nltk.corpus.words.words())\n",
    "eng_stop_words = set(stopwords.words('english'))\n"
   ]
  },
  {
   "cell_type": "code",
   "execution_count": 3,
   "id": "651d0bee-f8a8-42c1-9ec6-affb8ab5c158",
   "metadata": {},
   "outputs": [
    {
     "name": "stdout",
     "output_type": "stream",
     "text": [
      "2021-08-16 14:05:17,521 loading file C:\\Users\\616777\\.flair\\models\\sentiment-en-mix-distillbert_4.pt\n"
     ]
    }
   ],
   "source": [
    "# ### Loading sentiment model of english\n",
    "sentiment_model = flair.models.TextClassifier.load('en-sentiment')"
   ]
  },
  {
   "cell_type": "code",
   "execution_count": null,
   "id": "5e3bd978-2078-483e-a227-1fc517ed2a37",
   "metadata": {},
   "outputs": [],
   "source": [
    "# sentence = flair.data.Sentence('oh god')\n",
    "0 -- decreased\n",
    "1 -- increased or stayed same"
   ]
  },
  {
   "cell_type": "code",
   "execution_count": 4,
   "id": "2c7df59a-9d82-47e5-9ff3-2f76936a9f91",
   "metadata": {},
   "outputs": [],
   "source": [
    "### Read data input from csv \n",
    "data_input = pd.read_csv(\"Combined_News_DJIA.csv\")"
   ]
  },
  {
   "cell_type": "code",
   "execution_count": 5,
   "id": "0579535b-ed9f-423a-86a9-0efdcdb26b3f",
   "metadata": {},
   "outputs": [
    {
     "data": {
      "text/html": [
       "<div>\n",
       "<style scoped>\n",
       "    .dataframe tbody tr th:only-of-type {\n",
       "        vertical-align: middle;\n",
       "    }\n",
       "\n",
       "    .dataframe tbody tr th {\n",
       "        vertical-align: top;\n",
       "    }\n",
       "\n",
       "    .dataframe thead th {\n",
       "        text-align: right;\n",
       "    }\n",
       "</style>\n",
       "<table border=\"1\" class=\"dataframe\">\n",
       "  <thead>\n",
       "    <tr style=\"text-align: right;\">\n",
       "      <th></th>\n",
       "      <th>Date</th>\n",
       "      <th>Label</th>\n",
       "      <th>Top1</th>\n",
       "      <th>Top2</th>\n",
       "      <th>Top3</th>\n",
       "      <th>Top4</th>\n",
       "      <th>Top5</th>\n",
       "      <th>Top6</th>\n",
       "      <th>Top7</th>\n",
       "      <th>Top8</th>\n",
       "      <th>...</th>\n",
       "      <th>Top16</th>\n",
       "      <th>Top17</th>\n",
       "      <th>Top18</th>\n",
       "      <th>Top19</th>\n",
       "      <th>Top20</th>\n",
       "      <th>Top21</th>\n",
       "      <th>Top22</th>\n",
       "      <th>Top23</th>\n",
       "      <th>Top24</th>\n",
       "      <th>Top25</th>\n",
       "    </tr>\n",
       "  </thead>\n",
       "  <tbody>\n",
       "    <tr>\n",
       "      <th>0</th>\n",
       "      <td>08-08-2008</td>\n",
       "      <td>0</td>\n",
       "      <td>b\"Georgia 'downs two Russian warplanes' as cou...</td>\n",
       "      <td>b'BREAKING: Musharraf to be impeached.'</td>\n",
       "      <td>b'Russia Today: Columns of troops roll into So...</td>\n",
       "      <td>b'Russian tanks are moving towards the capital...</td>\n",
       "      <td>b\"Afghan children raped with 'impunity,' U.N. ...</td>\n",
       "      <td>b'150 Russian tanks have entered South Ossetia...</td>\n",
       "      <td>b\"Breaking: Georgia invades South Ossetia, Rus...</td>\n",
       "      <td>b\"The 'enemy combatent' trials are nothing but...</td>\n",
       "      <td>...</td>\n",
       "      <td>b'Georgia Invades South Ossetia - if Russia ge...</td>\n",
       "      <td>b'Al-Qaeda Faces Islamist Backlash'</td>\n",
       "      <td>b'Condoleezza Rice: \"The US would not act to p...</td>\n",
       "      <td>b'This is a busy day:  The European Union has ...</td>\n",
       "      <td>b\"Georgia will withdraw 1,000 soldiers from Ir...</td>\n",
       "      <td>b'Why the Pentagon Thinks Attacking Iran is a ...</td>\n",
       "      <td>b'Caucasus in crisis: Georgia invades South Os...</td>\n",
       "      <td>b'Indian shoe manufactory  - And again in a se...</td>\n",
       "      <td>b'Visitors Suffering from Mental Illnesses Ban...</td>\n",
       "      <td>b\"No Help for Mexico's Kidnapping Surge\"</td>\n",
       "    </tr>\n",
       "    <tr>\n",
       "      <th>1</th>\n",
       "      <td>11-08-2008</td>\n",
       "      <td>1</td>\n",
       "      <td>b'Why wont America and Nato help us? If they w...</td>\n",
       "      <td>b'Bush puts foot down on Georgian conflict'</td>\n",
       "      <td>b\"Jewish Georgian minister: Thanks to Israeli ...</td>\n",
       "      <td>b'Georgian army flees in disarray as Russians ...</td>\n",
       "      <td>b\"Olympic opening ceremony fireworks 'faked'\"</td>\n",
       "      <td>b'What were the Mossad with fraudulent New Zea...</td>\n",
       "      <td>b'Russia angered by Israeli military sale to G...</td>\n",
       "      <td>b'An American citizen living in S.Ossetia blam...</td>\n",
       "      <td>...</td>\n",
       "      <td>b'Israel and the US behind the Georgian aggres...</td>\n",
       "      <td>b'\"Do not believe TV, neither Russian nor Geor...</td>\n",
       "      <td>b'Riots are still going on in Montreal (Canada...</td>\n",
       "      <td>b'China to overtake US as largest manufacturer'</td>\n",
       "      <td>b'War in South Ossetia [PICS]'</td>\n",
       "      <td>b'Israeli Physicians Group Condemns State Tort...</td>\n",
       "      <td>b' Russia has just beaten the United States ov...</td>\n",
       "      <td>b'Perhaps *the* question about the Georgia - R...</td>\n",
       "      <td>b'Russia is so much better at war'</td>\n",
       "      <td>b\"So this is what it's come to: trading sex fo...</td>\n",
       "    </tr>\n",
       "    <tr>\n",
       "      <th>2</th>\n",
       "      <td>12-08-2008</td>\n",
       "      <td>0</td>\n",
       "      <td>b'Remember that adorable 9-year-old who sang a...</td>\n",
       "      <td>b\"Russia 'ends Georgia operation'\"</td>\n",
       "      <td>b'\"If we had no sexual harassment we would hav...</td>\n",
       "      <td>b\"Al-Qa'eda is losing support in Iraq because ...</td>\n",
       "      <td>b'Ceasefire in Georgia: Putin Outmaneuvers the...</td>\n",
       "      <td>b'Why Microsoft and Intel tried to kill the XO...</td>\n",
       "      <td>b'Stratfor: The Russo-Georgian War and the Bal...</td>\n",
       "      <td>b\"I'm Trying to Get a Sense of This Whole Geor...</td>\n",
       "      <td>...</td>\n",
       "      <td>b'U.S. troops still in Georgia (did you know t...</td>\n",
       "      <td>b'Why Russias response to Georgia was right'</td>\n",
       "      <td>b'Gorbachev accuses U.S. of making a \"serious ...</td>\n",
       "      <td>b'Russia, Georgia, and NATO: Cold War Two'</td>\n",
       "      <td>b'Remember that adorable 62-year-old who led y...</td>\n",
       "      <td>b'War in Georgia: The Israeli connection'</td>\n",
       "      <td>b'All signs point to the US encouraging Georgi...</td>\n",
       "      <td>b'Christopher King argues that the US and NATO...</td>\n",
       "      <td>b'America: The New Mexico?'</td>\n",
       "      <td>b\"BBC NEWS | Asia-Pacific | Extinction 'by man...</td>\n",
       "    </tr>\n",
       "    <tr>\n",
       "      <th>3</th>\n",
       "      <td>13-08-2008</td>\n",
       "      <td>0</td>\n",
       "      <td>b' U.S. refuses Israel weapons to attack Iran:...</td>\n",
       "      <td>b\"When the president ordered to attack Tskhinv...</td>\n",
       "      <td>b' Israel clears troops who killed Reuters cam...</td>\n",
       "      <td>b'Britain\\'s policy of being tough on drugs is...</td>\n",
       "      <td>b'Body of 14 year old found in trunk; Latest (...</td>\n",
       "      <td>b'China has moved 10 *million* quake survivors...</td>\n",
       "      <td>b\"Bush announces Operation Get All Up In Russi...</td>\n",
       "      <td>b'Russian forces sink Georgian ships '</td>\n",
       "      <td>...</td>\n",
       "      <td>b'Elephants extinct by 2020?'</td>\n",
       "      <td>b'US humanitarian missions soon in Georgia - i...</td>\n",
       "      <td>b\"Georgia's DDOS came from US sources\"</td>\n",
       "      <td>b'Russian convoy heads into Georgia, violating...</td>\n",
       "      <td>b'Israeli defence minister: US against strike ...</td>\n",
       "      <td>b'Gorbachev: We Had No Choice'</td>\n",
       "      <td>b'Witness: Russian forces head towards Tbilisi...</td>\n",
       "      <td>b' Quarter of Russians blame U.S. for conflict...</td>\n",
       "      <td>b'Georgian president  says US military will ta...</td>\n",
       "      <td>b'2006: Nobel laureate Aleksander Solzhenitsyn...</td>\n",
       "    </tr>\n",
       "    <tr>\n",
       "      <th>4</th>\n",
       "      <td>14-08-2008</td>\n",
       "      <td>1</td>\n",
       "      <td>b'All the experts admit that we should legalis...</td>\n",
       "      <td>b'War in South Osetia - 89 pictures made by a ...</td>\n",
       "      <td>b'Swedish wrestler Ara Abrahamian throws away ...</td>\n",
       "      <td>b'Russia exaggerated the death toll in South O...</td>\n",
       "      <td>b'Missile That Killed 9 Inside Pakistan May Ha...</td>\n",
       "      <td>b\"Rushdie Condemns Random House's Refusal to P...</td>\n",
       "      <td>b'Poland and US agree to missle defense deal. ...</td>\n",
       "      <td>b'Will the Russians conquer Tblisi? Bet on it,...</td>\n",
       "      <td>...</td>\n",
       "      <td>b'Bank analyst forecast Georgian crisis 2 days...</td>\n",
       "      <td>b\"Georgia confict could set back Russia's US r...</td>\n",
       "      <td>b'War in the Caucasus is as much the product o...</td>\n",
       "      <td>b'\"Non-media\" photos of South Ossetia/Georgia ...</td>\n",
       "      <td>b'Georgian TV reporter shot by Russian sniper ...</td>\n",
       "      <td>b'Saudi Arabia: Mother moves to block child ma...</td>\n",
       "      <td>b'Taliban wages war on humanitarian aid workers'</td>\n",
       "      <td>b'Russia: World  \"can forget about\" Georgia\\'s...</td>\n",
       "      <td>b'Darfur rebels accuse Sudan of mounting major...</td>\n",
       "      <td>b'Philippines : Peace Advocate say Muslims nee...</td>\n",
       "    </tr>\n",
       "  </tbody>\n",
       "</table>\n",
       "<p>5 rows × 27 columns</p>\n",
       "</div>"
      ],
      "text/plain": [
       "         Date  Label                                               Top1  \\\n",
       "0  08-08-2008      0  b\"Georgia 'downs two Russian warplanes' as cou...   \n",
       "1  11-08-2008      1  b'Why wont America and Nato help us? If they w...   \n",
       "2  12-08-2008      0  b'Remember that adorable 9-year-old who sang a...   \n",
       "3  13-08-2008      0  b' U.S. refuses Israel weapons to attack Iran:...   \n",
       "4  14-08-2008      1  b'All the experts admit that we should legalis...   \n",
       "\n",
       "                                                Top2  \\\n",
       "0            b'BREAKING: Musharraf to be impeached.'   \n",
       "1        b'Bush puts foot down on Georgian conflict'   \n",
       "2                 b\"Russia 'ends Georgia operation'\"   \n",
       "3  b\"When the president ordered to attack Tskhinv...   \n",
       "4  b'War in South Osetia - 89 pictures made by a ...   \n",
       "\n",
       "                                                Top3  \\\n",
       "0  b'Russia Today: Columns of troops roll into So...   \n",
       "1  b\"Jewish Georgian minister: Thanks to Israeli ...   \n",
       "2  b'\"If we had no sexual harassment we would hav...   \n",
       "3  b' Israel clears troops who killed Reuters cam...   \n",
       "4  b'Swedish wrestler Ara Abrahamian throws away ...   \n",
       "\n",
       "                                                Top4  \\\n",
       "0  b'Russian tanks are moving towards the capital...   \n",
       "1  b'Georgian army flees in disarray as Russians ...   \n",
       "2  b\"Al-Qa'eda is losing support in Iraq because ...   \n",
       "3  b'Britain\\'s policy of being tough on drugs is...   \n",
       "4  b'Russia exaggerated the death toll in South O...   \n",
       "\n",
       "                                                Top5  \\\n",
       "0  b\"Afghan children raped with 'impunity,' U.N. ...   \n",
       "1      b\"Olympic opening ceremony fireworks 'faked'\"   \n",
       "2  b'Ceasefire in Georgia: Putin Outmaneuvers the...   \n",
       "3  b'Body of 14 year old found in trunk; Latest (...   \n",
       "4  b'Missile That Killed 9 Inside Pakistan May Ha...   \n",
       "\n",
       "                                                Top6  \\\n",
       "0  b'150 Russian tanks have entered South Ossetia...   \n",
       "1  b'What were the Mossad with fraudulent New Zea...   \n",
       "2  b'Why Microsoft and Intel tried to kill the XO...   \n",
       "3  b'China has moved 10 *million* quake survivors...   \n",
       "4  b\"Rushdie Condemns Random House's Refusal to P...   \n",
       "\n",
       "                                                Top7  \\\n",
       "0  b\"Breaking: Georgia invades South Ossetia, Rus...   \n",
       "1  b'Russia angered by Israeli military sale to G...   \n",
       "2  b'Stratfor: The Russo-Georgian War and the Bal...   \n",
       "3  b\"Bush announces Operation Get All Up In Russi...   \n",
       "4  b'Poland and US agree to missle defense deal. ...   \n",
       "\n",
       "                                                Top8  ...  \\\n",
       "0  b\"The 'enemy combatent' trials are nothing but...  ...   \n",
       "1  b'An American citizen living in S.Ossetia blam...  ...   \n",
       "2  b\"I'm Trying to Get a Sense of This Whole Geor...  ...   \n",
       "3             b'Russian forces sink Georgian ships '  ...   \n",
       "4  b'Will the Russians conquer Tblisi? Bet on it,...  ...   \n",
       "\n",
       "                                               Top16  \\\n",
       "0  b'Georgia Invades South Ossetia - if Russia ge...   \n",
       "1  b'Israel and the US behind the Georgian aggres...   \n",
       "2  b'U.S. troops still in Georgia (did you know t...   \n",
       "3                      b'Elephants extinct by 2020?'   \n",
       "4  b'Bank analyst forecast Georgian crisis 2 days...   \n",
       "\n",
       "                                               Top17  \\\n",
       "0                b'Al-Qaeda Faces Islamist Backlash'   \n",
       "1  b'\"Do not believe TV, neither Russian nor Geor...   \n",
       "2       b'Why Russias response to Georgia was right'   \n",
       "3  b'US humanitarian missions soon in Georgia - i...   \n",
       "4  b\"Georgia confict could set back Russia's US r...   \n",
       "\n",
       "                                               Top18  \\\n",
       "0  b'Condoleezza Rice: \"The US would not act to p...   \n",
       "1  b'Riots are still going on in Montreal (Canada...   \n",
       "2  b'Gorbachev accuses U.S. of making a \"serious ...   \n",
       "3             b\"Georgia's DDOS came from US sources\"   \n",
       "4  b'War in the Caucasus is as much the product o...   \n",
       "\n",
       "                                               Top19  \\\n",
       "0  b'This is a busy day:  The European Union has ...   \n",
       "1    b'China to overtake US as largest manufacturer'   \n",
       "2         b'Russia, Georgia, and NATO: Cold War Two'   \n",
       "3  b'Russian convoy heads into Georgia, violating...   \n",
       "4  b'\"Non-media\" photos of South Ossetia/Georgia ...   \n",
       "\n",
       "                                               Top20  \\\n",
       "0  b\"Georgia will withdraw 1,000 soldiers from Ir...   \n",
       "1                     b'War in South Ossetia [PICS]'   \n",
       "2  b'Remember that adorable 62-year-old who led y...   \n",
       "3  b'Israeli defence minister: US against strike ...   \n",
       "4  b'Georgian TV reporter shot by Russian sniper ...   \n",
       "\n",
       "                                               Top21  \\\n",
       "0  b'Why the Pentagon Thinks Attacking Iran is a ...   \n",
       "1  b'Israeli Physicians Group Condemns State Tort...   \n",
       "2          b'War in Georgia: The Israeli connection'   \n",
       "3                     b'Gorbachev: We Had No Choice'   \n",
       "4  b'Saudi Arabia: Mother moves to block child ma...   \n",
       "\n",
       "                                               Top22  \\\n",
       "0  b'Caucasus in crisis: Georgia invades South Os...   \n",
       "1  b' Russia has just beaten the United States ov...   \n",
       "2  b'All signs point to the US encouraging Georgi...   \n",
       "3  b'Witness: Russian forces head towards Tbilisi...   \n",
       "4   b'Taliban wages war on humanitarian aid workers'   \n",
       "\n",
       "                                               Top23  \\\n",
       "0  b'Indian shoe manufactory  - And again in a se...   \n",
       "1  b'Perhaps *the* question about the Georgia - R...   \n",
       "2  b'Christopher King argues that the US and NATO...   \n",
       "3  b' Quarter of Russians blame U.S. for conflict...   \n",
       "4  b'Russia: World  \"can forget about\" Georgia\\'s...   \n",
       "\n",
       "                                               Top24  \\\n",
       "0  b'Visitors Suffering from Mental Illnesses Ban...   \n",
       "1                 b'Russia is so much better at war'   \n",
       "2                        b'America: The New Mexico?'   \n",
       "3  b'Georgian president  says US military will ta...   \n",
       "4  b'Darfur rebels accuse Sudan of mounting major...   \n",
       "\n",
       "                                               Top25  \n",
       "0           b\"No Help for Mexico's Kidnapping Surge\"  \n",
       "1  b\"So this is what it's come to: trading sex fo...  \n",
       "2  b\"BBC NEWS | Asia-Pacific | Extinction 'by man...  \n",
       "3  b'2006: Nobel laureate Aleksander Solzhenitsyn...  \n",
       "4  b'Philippines : Peace Advocate say Muslims nee...  \n",
       "\n",
       "[5 rows x 27 columns]"
      ]
     },
     "execution_count": 5,
     "metadata": {},
     "output_type": "execute_result"
    }
   ],
   "source": [
    "### Top 5 records\n",
    "data_input.head(5)"
   ]
  },
  {
   "cell_type": "code",
   "execution_count": 6,
   "id": "2c9a64db-9cf1-4820-a380-1477cb2fe39e",
   "metadata": {},
   "outputs": [
    {
     "data": {
      "text/html": [
       "<div>\n",
       "<style scoped>\n",
       "    .dataframe tbody tr th:only-of-type {\n",
       "        vertical-align: middle;\n",
       "    }\n",
       "\n",
       "    .dataframe tbody tr th {\n",
       "        vertical-align: top;\n",
       "    }\n",
       "\n",
       "    .dataframe thead th {\n",
       "        text-align: right;\n",
       "    }\n",
       "</style>\n",
       "<table border=\"1\" class=\"dataframe\">\n",
       "  <thead>\n",
       "    <tr style=\"text-align: right;\">\n",
       "      <th></th>\n",
       "      <th>Date</th>\n",
       "      <th>Label</th>\n",
       "      <th>Top1</th>\n",
       "      <th>Top2</th>\n",
       "      <th>Top3</th>\n",
       "      <th>Top4</th>\n",
       "      <th>Top5</th>\n",
       "      <th>Top6</th>\n",
       "      <th>Top7</th>\n",
       "      <th>Top8</th>\n",
       "      <th>...</th>\n",
       "      <th>Top16</th>\n",
       "      <th>Top17</th>\n",
       "      <th>Top18</th>\n",
       "      <th>Top19</th>\n",
       "      <th>Top20</th>\n",
       "      <th>Top21</th>\n",
       "      <th>Top22</th>\n",
       "      <th>Top23</th>\n",
       "      <th>Top24</th>\n",
       "      <th>Top25</th>\n",
       "    </tr>\n",
       "  </thead>\n",
       "  <tbody>\n",
       "    <tr>\n",
       "      <th>1984</th>\n",
       "      <td>27-06-2016</td>\n",
       "      <td>0</td>\n",
       "      <td>Barclays and RBS shares suspended from trading...</td>\n",
       "      <td>Pope says Church should ask forgiveness from g...</td>\n",
       "      <td>Poland 'shocked' by xenophobic abuse of Poles ...</td>\n",
       "      <td>There will be no second referendum, cabinet ag...</td>\n",
       "      <td>Scotland welcome to join EU, Merkel ally says</td>\n",
       "      <td>Sterling dips below Friday's 31-year low amid ...</td>\n",
       "      <td>No negative news about South African President...</td>\n",
       "      <td>Surge in Hate Crimes in the U.K. Following U.K...</td>\n",
       "      <td>...</td>\n",
       "      <td>German lawyers to probe Erdogan over alleged w...</td>\n",
       "      <td>Boris Johnson says the UK will continue to \"in...</td>\n",
       "      <td>Richard Branson is calling on the UK governmen...</td>\n",
       "      <td>Turkey 'sorry for downing Russian jet'</td>\n",
       "      <td>Edward Snowden lawyer vows new push for pardon...</td>\n",
       "      <td>Brexit opinion poll reveals majority don't wan...</td>\n",
       "      <td>Conservative MP Leave Campaigner: \"The leave c...</td>\n",
       "      <td>Economists predict UK recession, further weake...</td>\n",
       "      <td>New EU 'superstate plan by France, Germany: Cr...</td>\n",
       "      <td>Pakistani clerics declare transgender marriage...</td>\n",
       "    </tr>\n",
       "    <tr>\n",
       "      <th>1985</th>\n",
       "      <td>28-06-2016</td>\n",
       "      <td>1</td>\n",
       "      <td>2,500 Scientists To Australia: If You Want To ...</td>\n",
       "      <td>The personal details of 112,000 French police ...</td>\n",
       "      <td>S&amp;amp;P cuts United Kingdom sovereign credit r...</td>\n",
       "      <td>Huge helium deposit found in Africa</td>\n",
       "      <td>CEO of the South African state broadcaster qui...</td>\n",
       "      <td>Brexit cost investors $2 trillion, the worst o...</td>\n",
       "      <td>Hong Kong democracy activists call for return ...</td>\n",
       "      <td>Brexit: Iceland president says UK can join 'tr...</td>\n",
       "      <td>...</td>\n",
       "      <td>US, Canada and Mexico pledge 50% of power from...</td>\n",
       "      <td>There is increasing evidence that Australia is...</td>\n",
       "      <td>Richard Branson, the founder of Virgin Group, ...</td>\n",
       "      <td>37,000-yr-old skull from Borneo reveals surpri...</td>\n",
       "      <td>Palestinians stone Western Wall worshipers; po...</td>\n",
       "      <td>Jean-Claude Juncker asks Farage: Why are you h...</td>\n",
       "      <td>\"Romanians for Remainians\" offering a new home...</td>\n",
       "      <td>Brexit: Gibraltar in talks with Scotland to st...</td>\n",
       "      <td>8 Suicide Bombers Strike Lebanon</td>\n",
       "      <td>Mexico's security forces routinely use 'sexual...</td>\n",
       "    </tr>\n",
       "    <tr>\n",
       "      <th>1986</th>\n",
       "      <td>29-06-2016</td>\n",
       "      <td>1</td>\n",
       "      <td>Explosion At Airport In Istanbul</td>\n",
       "      <td>Yemeni former president: Terrorism is the offs...</td>\n",
       "      <td>UK must accept freedom of movement to access E...</td>\n",
       "      <td>Devastated: scientists too late to captive bre...</td>\n",
       "      <td>British Labor Party leader Jeremy Corbyn loses...</td>\n",
       "      <td>A Muslim Shop in the UK Was Just Firebombed Wh...</td>\n",
       "      <td>Mexican Authorities Sexually Torture Women in ...</td>\n",
       "      <td>UK shares and pound continue to recover</td>\n",
       "      <td>...</td>\n",
       "      <td>Escape Tunnel, Dug by Hand, Is Found at Holoca...</td>\n",
       "      <td>The land under Beijing is sinking by as much a...</td>\n",
       "      <td>Car bomb and Anti-Islamic attack on Mosque in ...</td>\n",
       "      <td>Emaciated lions in Taiz Zoo are trapped in blo...</td>\n",
       "      <td>Rupert Murdoch describes Brexit as 'wonderful'...</td>\n",
       "      <td>More than 40 killed in Yemen suicide attacks</td>\n",
       "      <td>Google Found Disastrous Symantec and Norton Vu...</td>\n",
       "      <td>Extremist violence on the rise in Germany: Dom...</td>\n",
       "      <td>BBC News: Labour MPs pass Corbyn no-confidence...</td>\n",
       "      <td>Tiny New Zealand town with 'too many jobs' lau...</td>\n",
       "    </tr>\n",
       "    <tr>\n",
       "      <th>1987</th>\n",
       "      <td>30-06-2016</td>\n",
       "      <td>1</td>\n",
       "      <td>Jamaica proposes marijuana dispensers for tour...</td>\n",
       "      <td>Stephen Hawking says pollution and 'stupidity'...</td>\n",
       "      <td>Boris Johnson says he will not run for Tory pa...</td>\n",
       "      <td>Six gay men in Ivory Coast were abused and for...</td>\n",
       "      <td>Switzerland denies citizenship to Muslim immig...</td>\n",
       "      <td>Palestinian terrorist stabs israeli teen girl ...</td>\n",
       "      <td>Puerto Rico will default on $1 billion of debt...</td>\n",
       "      <td>Republic of Ireland fans to be awarded medal f...</td>\n",
       "      <td>...</td>\n",
       "      <td>Googles free wifi at Indian railway stations i...</td>\n",
       "      <td>Mounting evidence suggests 'hobbits' were wipe...</td>\n",
       "      <td>The men who carried out Tuesday's terror attac...</td>\n",
       "      <td>Calls to suspend Saudi Arabia from UN Human Ri...</td>\n",
       "      <td>More Than 100 Nobel Laureates Call Out Greenpe...</td>\n",
       "      <td>British pedophile sentenced to 85 years in US ...</td>\n",
       "      <td>US permitted 1,200 offshore fracks in Gulf of ...</td>\n",
       "      <td>We will be swimming in ridicule - French beach...</td>\n",
       "      <td>UEFA says no minutes of silence for Istanbul v...</td>\n",
       "      <td>Law Enforcement Sources: Gun Used in Paris Ter...</td>\n",
       "    </tr>\n",
       "    <tr>\n",
       "      <th>1988</th>\n",
       "      <td>01-07-2016</td>\n",
       "      <td>1</td>\n",
       "      <td>A 117-year-old woman in Mexico City finally re...</td>\n",
       "      <td>IMF chief backs Athens as permanent Olympic host</td>\n",
       "      <td>The president of France says if Brexit won, so...</td>\n",
       "      <td>British Man Who Must Give Police 24 Hours' Not...</td>\n",
       "      <td>100+ Nobel laureates urge Greenpeace to stop o...</td>\n",
       "      <td>Brazil: Huge spike in number of police killing...</td>\n",
       "      <td>Austria's highest court annuls presidential el...</td>\n",
       "      <td>Facebook wins privacy case, can track any Belg...</td>\n",
       "      <td>...</td>\n",
       "      <td>The United States has placed Myanmar, Uzbekist...</td>\n",
       "      <td>S&amp;amp;P revises European Union credit rating t...</td>\n",
       "      <td>India gets $1 billion loan from World Bank for...</td>\n",
       "      <td>U.S. sailors detained by Iran spoke too much u...</td>\n",
       "      <td>Mass fish kill in Vietnam solved as Taiwan ste...</td>\n",
       "      <td>Philippines president Rodrigo Duterte urges pe...</td>\n",
       "      <td>Spain arrests three Pakistanis accused of prom...</td>\n",
       "      <td>Venezuela, where anger over food shortages is ...</td>\n",
       "      <td>A Hindu temple worker has been killed by three...</td>\n",
       "      <td>Ozone layer hole seems to be healing - US &amp;amp...</td>\n",
       "    </tr>\n",
       "  </tbody>\n",
       "</table>\n",
       "<p>5 rows × 27 columns</p>\n",
       "</div>"
      ],
      "text/plain": [
       "            Date  Label                                               Top1  \\\n",
       "1984  27-06-2016      0  Barclays and RBS shares suspended from trading...   \n",
       "1985  28-06-2016      1  2,500 Scientists To Australia: If You Want To ...   \n",
       "1986  29-06-2016      1                   Explosion At Airport In Istanbul   \n",
       "1987  30-06-2016      1  Jamaica proposes marijuana dispensers for tour...   \n",
       "1988  01-07-2016      1  A 117-year-old woman in Mexico City finally re...   \n",
       "\n",
       "                                                   Top2  \\\n",
       "1984  Pope says Church should ask forgiveness from g...   \n",
       "1985  The personal details of 112,000 French police ...   \n",
       "1986  Yemeni former president: Terrorism is the offs...   \n",
       "1987  Stephen Hawking says pollution and 'stupidity'...   \n",
       "1988   IMF chief backs Athens as permanent Olympic host   \n",
       "\n",
       "                                                   Top3  \\\n",
       "1984  Poland 'shocked' by xenophobic abuse of Poles ...   \n",
       "1985  S&amp;P cuts United Kingdom sovereign credit r...   \n",
       "1986  UK must accept freedom of movement to access E...   \n",
       "1987  Boris Johnson says he will not run for Tory pa...   \n",
       "1988  The president of France says if Brexit won, so...   \n",
       "\n",
       "                                                   Top4  \\\n",
       "1984  There will be no second referendum, cabinet ag...   \n",
       "1985                Huge helium deposit found in Africa   \n",
       "1986  Devastated: scientists too late to captive bre...   \n",
       "1987  Six gay men in Ivory Coast were abused and for...   \n",
       "1988  British Man Who Must Give Police 24 Hours' Not...   \n",
       "\n",
       "                                                   Top5  \\\n",
       "1984      Scotland welcome to join EU, Merkel ally says   \n",
       "1985  CEO of the South African state broadcaster qui...   \n",
       "1986  British Labor Party leader Jeremy Corbyn loses...   \n",
       "1987  Switzerland denies citizenship to Muslim immig...   \n",
       "1988  100+ Nobel laureates urge Greenpeace to stop o...   \n",
       "\n",
       "                                                   Top6  \\\n",
       "1984  Sterling dips below Friday's 31-year low amid ...   \n",
       "1985  Brexit cost investors $2 trillion, the worst o...   \n",
       "1986  A Muslim Shop in the UK Was Just Firebombed Wh...   \n",
       "1987  Palestinian terrorist stabs israeli teen girl ...   \n",
       "1988  Brazil: Huge spike in number of police killing...   \n",
       "\n",
       "                                                   Top7  \\\n",
       "1984  No negative news about South African President...   \n",
       "1985  Hong Kong democracy activists call for return ...   \n",
       "1986  Mexican Authorities Sexually Torture Women in ...   \n",
       "1987  Puerto Rico will default on $1 billion of debt...   \n",
       "1988  Austria's highest court annuls presidential el...   \n",
       "\n",
       "                                                   Top8  ...  \\\n",
       "1984  Surge in Hate Crimes in the U.K. Following U.K...  ...   \n",
       "1985  Brexit: Iceland president says UK can join 'tr...  ...   \n",
       "1986            UK shares and pound continue to recover  ...   \n",
       "1987  Republic of Ireland fans to be awarded medal f...  ...   \n",
       "1988  Facebook wins privacy case, can track any Belg...  ...   \n",
       "\n",
       "                                                  Top16  \\\n",
       "1984  German lawyers to probe Erdogan over alleged w...   \n",
       "1985  US, Canada and Mexico pledge 50% of power from...   \n",
       "1986  Escape Tunnel, Dug by Hand, Is Found at Holoca...   \n",
       "1987  Googles free wifi at Indian railway stations i...   \n",
       "1988  The United States has placed Myanmar, Uzbekist...   \n",
       "\n",
       "                                                  Top17  \\\n",
       "1984  Boris Johnson says the UK will continue to \"in...   \n",
       "1985  There is increasing evidence that Australia is...   \n",
       "1986  The land under Beijing is sinking by as much a...   \n",
       "1987  Mounting evidence suggests 'hobbits' were wipe...   \n",
       "1988  S&amp;P revises European Union credit rating t...   \n",
       "\n",
       "                                                  Top18  \\\n",
       "1984  Richard Branson is calling on the UK governmen...   \n",
       "1985  Richard Branson, the founder of Virgin Group, ...   \n",
       "1986  Car bomb and Anti-Islamic attack on Mosque in ...   \n",
       "1987  The men who carried out Tuesday's terror attac...   \n",
       "1988  India gets $1 billion loan from World Bank for...   \n",
       "\n",
       "                                                  Top19  \\\n",
       "1984             Turkey 'sorry for downing Russian jet'   \n",
       "1985  37,000-yr-old skull from Borneo reveals surpri...   \n",
       "1986  Emaciated lions in Taiz Zoo are trapped in blo...   \n",
       "1987  Calls to suspend Saudi Arabia from UN Human Ri...   \n",
       "1988  U.S. sailors detained by Iran spoke too much u...   \n",
       "\n",
       "                                                  Top20  \\\n",
       "1984  Edward Snowden lawyer vows new push for pardon...   \n",
       "1985  Palestinians stone Western Wall worshipers; po...   \n",
       "1986  Rupert Murdoch describes Brexit as 'wonderful'...   \n",
       "1987  More Than 100 Nobel Laureates Call Out Greenpe...   \n",
       "1988  Mass fish kill in Vietnam solved as Taiwan ste...   \n",
       "\n",
       "                                                  Top21  \\\n",
       "1984  Brexit opinion poll reveals majority don't wan...   \n",
       "1985  Jean-Claude Juncker asks Farage: Why are you h...   \n",
       "1986       More than 40 killed in Yemen suicide attacks   \n",
       "1987  British pedophile sentenced to 85 years in US ...   \n",
       "1988  Philippines president Rodrigo Duterte urges pe...   \n",
       "\n",
       "                                                  Top22  \\\n",
       "1984  Conservative MP Leave Campaigner: \"The leave c...   \n",
       "1985  \"Romanians for Remainians\" offering a new home...   \n",
       "1986  Google Found Disastrous Symantec and Norton Vu...   \n",
       "1987  US permitted 1,200 offshore fracks in Gulf of ...   \n",
       "1988  Spain arrests three Pakistanis accused of prom...   \n",
       "\n",
       "                                                  Top23  \\\n",
       "1984  Economists predict UK recession, further weake...   \n",
       "1985  Brexit: Gibraltar in talks with Scotland to st...   \n",
       "1986  Extremist violence on the rise in Germany: Dom...   \n",
       "1987  We will be swimming in ridicule - French beach...   \n",
       "1988  Venezuela, where anger over food shortages is ...   \n",
       "\n",
       "                                                  Top24  \\\n",
       "1984  New EU 'superstate plan by France, Germany: Cr...   \n",
       "1985                   8 Suicide Bombers Strike Lebanon   \n",
       "1986  BBC News: Labour MPs pass Corbyn no-confidence...   \n",
       "1987  UEFA says no minutes of silence for Istanbul v...   \n",
       "1988  A Hindu temple worker has been killed by three...   \n",
       "\n",
       "                                                  Top25  \n",
       "1984  Pakistani clerics declare transgender marriage...  \n",
       "1985  Mexico's security forces routinely use 'sexual...  \n",
       "1986  Tiny New Zealand town with 'too many jobs' lau...  \n",
       "1987  Law Enforcement Sources: Gun Used in Paris Ter...  \n",
       "1988  Ozone layer hole seems to be healing - US &amp...  \n",
       "\n",
       "[5 rows x 27 columns]"
      ]
     },
     "execution_count": 6,
     "metadata": {},
     "output_type": "execute_result"
    }
   ],
   "source": [
    "### Bottom 5 records\n",
    "data_input.tail(5)"
   ]
  },
  {
   "cell_type": "code",
   "execution_count": 7,
   "id": "cf657aa8-eb61-418b-9cc4-a3702d64c10f",
   "metadata": {},
   "outputs": [
    {
     "data": {
      "text/plain": [
       "Date     0\n",
       "Label    0\n",
       "Top1     0\n",
       "Top2     0\n",
       "Top3     0\n",
       "Top4     0\n",
       "Top5     0\n",
       "Top6     0\n",
       "Top7     0\n",
       "Top8     0\n",
       "Top9     0\n",
       "Top10    0\n",
       "Top11    0\n",
       "Top12    0\n",
       "Top13    0\n",
       "Top14    0\n",
       "Top15    0\n",
       "Top16    0\n",
       "Top17    0\n",
       "Top18    0\n",
       "Top19    0\n",
       "Top20    0\n",
       "Top21    0\n",
       "Top22    0\n",
       "Top23    1\n",
       "Top24    3\n",
       "Top25    3\n",
       "dtype: int64"
      ]
     },
     "execution_count": 7,
     "metadata": {},
     "output_type": "execute_result"
    }
   ],
   "source": [
    "### Elementey data analysis\n",
    "data_input.isna().sum()"
   ]
  },
  {
   "cell_type": "code",
   "execution_count": 8,
   "id": "55b30f09-9693-45eb-a1f1-fb485386117f",
   "metadata": {},
   "outputs": [],
   "source": [
    "#### Now drop na values from the data set\n",
    "data_input=data_input.dropna()"
   ]
  },
  {
   "cell_type": "code",
   "execution_count": 9,
   "id": "ae1a3965-f3a7-4a35-9c2b-5c1ce7cd3873",
   "metadata": {},
   "outputs": [
    {
     "data": {
      "text/plain": [
       "Date     0\n",
       "Label    0\n",
       "Top1     0\n",
       "Top2     0\n",
       "Top3     0\n",
       "Top4     0\n",
       "Top5     0\n",
       "Top6     0\n",
       "Top7     0\n",
       "Top8     0\n",
       "Top9     0\n",
       "Top10    0\n",
       "Top11    0\n",
       "Top12    0\n",
       "Top13    0\n",
       "Top14    0\n",
       "Top15    0\n",
       "Top16    0\n",
       "Top17    0\n",
       "Top18    0\n",
       "Top19    0\n",
       "Top20    0\n",
       "Top21    0\n",
       "Top22    0\n",
       "Top23    0\n",
       "Top24    0\n",
       "Top25    0\n",
       "dtype: int64"
      ]
     },
     "execution_count": 9,
     "metadata": {},
     "output_type": "execute_result"
    }
   ],
   "source": [
    "data_input.isna().sum()"
   ]
  },
  {
   "cell_type": "code",
   "execution_count": 10,
   "id": "6ef568c2-e002-41c6-af9e-8db230d8ab67",
   "metadata": {},
   "outputs": [
    {
     "data": {
      "text/plain": [
       "Date     1986\n",
       "Label    1986\n",
       "Top1     1986\n",
       "Top2     1986\n",
       "Top3     1986\n",
       "Top4     1986\n",
       "Top5     1986\n",
       "Top6     1986\n",
       "Top7     1986\n",
       "Top8     1986\n",
       "Top9     1986\n",
       "Top10    1986\n",
       "Top11    1986\n",
       "Top12    1986\n",
       "Top13    1986\n",
       "Top14    1986\n",
       "Top15    1986\n",
       "Top16    1986\n",
       "Top17    1986\n",
       "Top18    1986\n",
       "Top19    1986\n",
       "Top20    1986\n",
       "Top21    1986\n",
       "Top22    1986\n",
       "Top23    1986\n",
       "Top24    1986\n",
       "Top25    1986\n",
       "dtype: int64"
      ]
     },
     "execution_count": 10,
     "metadata": {},
     "output_type": "execute_result"
    }
   ],
   "source": [
    "data_input.count()"
   ]
  },
  {
   "cell_type": "code",
   "execution_count": null,
   "id": "92a44d5b-9ebd-4f3c-b070-1a26b176819a",
   "metadata": {},
   "outputs": [],
   "source": []
  },
  {
   "cell_type": "code",
   "execution_count": 11,
   "id": "c04c84c5-d521-4e86-8029-9184439da2b3",
   "metadata": {},
   "outputs": [],
   "source": [
    "### Now convert all the columns to rows \n",
    "data_input_new = data_input.melt(id_vars=[\"Date\", \"Label\"], \n",
    "        var_name=\"News_Label\",\n",
    "        value_name=\"News_Headlines\")\n",
    "data_input_new = data_input_new[[\"Date\",\"Label\",\"News_Headlines\"]]"
   ]
  },
  {
   "cell_type": "code",
   "execution_count": 12,
   "id": "9eff82c9-8df2-4d50-9e3f-fc137b27694d",
   "metadata": {},
   "outputs": [
    {
     "data": {
      "text/html": [
       "<div>\n",
       "<style scoped>\n",
       "    .dataframe tbody tr th:only-of-type {\n",
       "        vertical-align: middle;\n",
       "    }\n",
       "\n",
       "    .dataframe tbody tr th {\n",
       "        vertical-align: top;\n",
       "    }\n",
       "\n",
       "    .dataframe thead th {\n",
       "        text-align: right;\n",
       "    }\n",
       "</style>\n",
       "<table border=\"1\" class=\"dataframe\">\n",
       "  <thead>\n",
       "    <tr style=\"text-align: right;\">\n",
       "      <th></th>\n",
       "      <th>Date</th>\n",
       "      <th>Label</th>\n",
       "      <th>News_Headlines</th>\n",
       "    </tr>\n",
       "  </thead>\n",
       "  <tbody>\n",
       "    <tr>\n",
       "      <th>0</th>\n",
       "      <td>08-08-2008</td>\n",
       "      <td>0</td>\n",
       "      <td>b\"Georgia 'downs two Russian warplanes' as cou...</td>\n",
       "    </tr>\n",
       "    <tr>\n",
       "      <th>1</th>\n",
       "      <td>11-08-2008</td>\n",
       "      <td>1</td>\n",
       "      <td>b'Why wont America and Nato help us? If they w...</td>\n",
       "    </tr>\n",
       "    <tr>\n",
       "      <th>2</th>\n",
       "      <td>12-08-2008</td>\n",
       "      <td>0</td>\n",
       "      <td>b'Remember that adorable 9-year-old who sang a...</td>\n",
       "    </tr>\n",
       "    <tr>\n",
       "      <th>3</th>\n",
       "      <td>13-08-2008</td>\n",
       "      <td>0</td>\n",
       "      <td>b' U.S. refuses Israel weapons to attack Iran:...</td>\n",
       "    </tr>\n",
       "    <tr>\n",
       "      <th>4</th>\n",
       "      <td>14-08-2008</td>\n",
       "      <td>1</td>\n",
       "      <td>b'All the experts admit that we should legalis...</td>\n",
       "    </tr>\n",
       "  </tbody>\n",
       "</table>\n",
       "</div>"
      ],
      "text/plain": [
       "         Date  Label                                     News_Headlines\n",
       "0  08-08-2008      0  b\"Georgia 'downs two Russian warplanes' as cou...\n",
       "1  11-08-2008      1  b'Why wont America and Nato help us? If they w...\n",
       "2  12-08-2008      0  b'Remember that adorable 9-year-old who sang a...\n",
       "3  13-08-2008      0  b' U.S. refuses Israel weapons to attack Iran:...\n",
       "4  14-08-2008      1  b'All the experts admit that we should legalis..."
      ]
     },
     "execution_count": 12,
     "metadata": {},
     "output_type": "execute_result"
    }
   ],
   "source": [
    "### Top 5 Headlines\n",
    "data_input_new.head(5)"
   ]
  },
  {
   "cell_type": "code",
   "execution_count": 13,
   "id": "749656a3-b6bb-4e66-b872-6fa0ce2bc992",
   "metadata": {},
   "outputs": [
    {
     "data": {
      "text/html": [
       "<div>\n",
       "<style scoped>\n",
       "    .dataframe tbody tr th:only-of-type {\n",
       "        vertical-align: middle;\n",
       "    }\n",
       "\n",
       "    .dataframe tbody tr th {\n",
       "        vertical-align: top;\n",
       "    }\n",
       "\n",
       "    .dataframe thead th {\n",
       "        text-align: right;\n",
       "    }\n",
       "</style>\n",
       "<table border=\"1\" class=\"dataframe\">\n",
       "  <thead>\n",
       "    <tr style=\"text-align: right;\">\n",
       "      <th></th>\n",
       "      <th>Date</th>\n",
       "      <th>Label</th>\n",
       "      <th>News_Headlines</th>\n",
       "    </tr>\n",
       "  </thead>\n",
       "  <tbody>\n",
       "    <tr>\n",
       "      <th>49645</th>\n",
       "      <td>27-06-2016</td>\n",
       "      <td>0</td>\n",
       "      <td>Pakistani clerics declare transgender marriage...</td>\n",
       "    </tr>\n",
       "    <tr>\n",
       "      <th>49646</th>\n",
       "      <td>28-06-2016</td>\n",
       "      <td>1</td>\n",
       "      <td>Mexico's security forces routinely use 'sexual...</td>\n",
       "    </tr>\n",
       "    <tr>\n",
       "      <th>49647</th>\n",
       "      <td>29-06-2016</td>\n",
       "      <td>1</td>\n",
       "      <td>Tiny New Zealand town with 'too many jobs' lau...</td>\n",
       "    </tr>\n",
       "    <tr>\n",
       "      <th>49648</th>\n",
       "      <td>30-06-2016</td>\n",
       "      <td>1</td>\n",
       "      <td>Law Enforcement Sources: Gun Used in Paris Ter...</td>\n",
       "    </tr>\n",
       "    <tr>\n",
       "      <th>49649</th>\n",
       "      <td>01-07-2016</td>\n",
       "      <td>1</td>\n",
       "      <td>Ozone layer hole seems to be healing - US &amp;amp...</td>\n",
       "    </tr>\n",
       "  </tbody>\n",
       "</table>\n",
       "</div>"
      ],
      "text/plain": [
       "             Date  Label                                     News_Headlines\n",
       "49645  27-06-2016      0  Pakistani clerics declare transgender marriage...\n",
       "49646  28-06-2016      1  Mexico's security forces routinely use 'sexual...\n",
       "49647  29-06-2016      1  Tiny New Zealand town with 'too many jobs' lau...\n",
       "49648  30-06-2016      1  Law Enforcement Sources: Gun Used in Paris Ter...\n",
       "49649  01-07-2016      1  Ozone layer hole seems to be healing - US &amp..."
      ]
     },
     "execution_count": 13,
     "metadata": {},
     "output_type": "execute_result"
    }
   ],
   "source": [
    "### Bottom 5 Headlines\n",
    "data_input_new.tail(5)"
   ]
  },
  {
   "cell_type": "code",
   "execution_count": 14,
   "id": "93c0e766-ca6b-415c-9f0c-1d6abf83eb17",
   "metadata": {},
   "outputs": [],
   "source": [
    "### Now Data Preprocessing on Input data to eliminate un necussary data\n",
    "def datapreprocess_fun(dtpp_raw_data):\n",
    "    \"\"\" Data Preprocessing to remove numbers,punctuation,pos_tagging,lemmatization of words \"\"\"\n",
    "    dtpp_raw_pun = re.sub(r'\\d+', '', str(dtpp_raw_data).lower())\n",
    "    punctu_obj = str.maketrans('', '', string.punctuation)\n",
    "    dtpp_pos_tag = ' '.join(dtpp_raw_pun.translate(punctu_obj).split())\n",
    "    return dtpp_pos_tag"
   ]
  },
  {
   "cell_type": "code",
   "execution_count": 15,
   "id": "0e9b8c13-2b8f-4801-b3f1-b0ac41811138",
   "metadata": {},
   "outputs": [],
   "source": [
    "def datapreprocess_fun_V1(dtpp_raw_data):\n",
    "    \"\"\" Data Preprocessing to remove numbers,punctuation,pos_tagging,lemmatization of words \"\"\"\n",
    "    dtpp_raw_data = pos_tag(word_tokenize(dtpp_raw_data))\n",
    "    dtpp_lemmas = []\n",
    "    for raw_lm_word in dtpp_raw_data:\n",
    "        raw_lm_word_pos = raw_lm_word[-1]\n",
    "        raw_lm_word_value = raw_lm_word[0]\n",
    "        if  raw_lm_word_pos[0] == 'N' or  raw_lm_word_pos[0] == 'J' or  raw_lm_word_pos[0] == 'R' or  raw_lm_word_pos[0] == 'V':\n",
    "            pos_tag_value = raw_lm_word_pos[0].lower()\n",
    "            if pos_tag_value != 'j':\n",
    "                dtpp_lemmas.append(lemmatizer.lemmatize(raw_lm_word_value,pos_tag_value))\n",
    "            else:\n",
    "                dtpp_lemmas.append(lemmatizer.lemmatize(raw_lm_word_value))\n",
    "        else:\n",
    "            continue\n",
    "    dtpp_raw_stopwords = ' '.join(dtpp_lemmas)\n",
    "    dtpp_word_tokens = word_tokenize(dtpp_raw_stopwords) \n",
    "    dtpp_filtered_text = [word for word in dtpp_word_tokens if word not in eng_stop_words]\n",
    "    return dtpp_filtered_text"
   ]
  },
  {
   "cell_type": "code",
   "execution_count": 16,
   "id": "0b6bc5e1-d485-4f82-8d6d-b0f52409dd6c",
   "metadata": {},
   "outputs": [],
   "source": [
    "def remove_words_no_sense(text):\n",
    "    \"\"\" This Function Removes words which are less then length 2 and greater than 15 and also get their root word \"\"\"\n",
    "    list_text = []\n",
    "    for i in text:\n",
    "        len_str = len(i)\n",
    "        if  len_str > 2 and len_str <= 15:\n",
    "            list_text.append(i)\n",
    "        elif len_str <= 2 or len_str > 15:\n",
    "            continue\n",
    "    return list_text   "
   ]
  },
  {
   "cell_type": "code",
   "execution_count": 17,
   "id": "94160946-0dd4-4ff5-be6a-929c615de6fe",
   "metadata": {},
   "outputs": [],
   "source": [
    "#### List to save processed data\n",
    "\n",
    "data_processed_list_data_tokens = list()\n",
    "data_processed_list_data = list()\n",
    "\n",
    "#### Function for Preprossing of Data ####\n",
    "def data_preprocessing_complete(data_input):\n",
    "    \"\"\" This Function Preprocess the data and add new column \"\"\"     \n",
    "    print('Data Preprocessing started')\n",
    "    length_dp_df = np.shape(data_input)[0]\n",
    "    width_dp_df = np.shape(data_input)[1]\n",
    "    for i in range(length_dp_df):\n",
    "        data_modi_list = list()\n",
    "        data_modi_list_new_V1 = list()\n",
    "        for k in range(width_dp_df):\n",
    "                data = data_input.iloc[i][k]\n",
    "                if data[0:2] == \"b\\\"\" or data[0:2] == \"b\\'\":\n",
    "                        data = data[2:]\n",
    "                else:\n",
    "                    pass\n",
    "                ########## Function to process data ####\n",
    "                data_pos_tag =  datapreprocess_fun(data)\n",
    "                data_filtered_text = datapreprocess_fun_V1(data_pos_tag)\n",
    "                ########## Stage to Remove words less than 2 and greater then 15 ##########\n",
    "                data_no_sense = remove_words_no_sense(data_filtered_text)\n",
    "                data_modi_list.append(data_pos_tag)\n",
    "                data_modi_list_new_V1.extend(data_no_sense)\n",
    "        data_processed_list_data.insert(i,data_modi_list)\n",
    "        data_processed_list_data_tokens.insert(i,data_modi_list_new_V1)"
   ]
  },
  {
   "cell_type": "code",
   "execution_count": 18,
   "id": "5c4a723f-16c6-47db-8bc3-90fb65323741",
   "metadata": {},
   "outputs": [
    {
     "data": {
      "text/html": [
       "<div>\n",
       "<style scoped>\n",
       "    .dataframe tbody tr th:only-of-type {\n",
       "        vertical-align: middle;\n",
       "    }\n",
       "\n",
       "    .dataframe tbody tr th {\n",
       "        vertical-align: top;\n",
       "    }\n",
       "\n",
       "    .dataframe thead th {\n",
       "        text-align: right;\n",
       "    }\n",
       "</style>\n",
       "<table border=\"1\" class=\"dataframe\">\n",
       "  <thead>\n",
       "    <tr style=\"text-align: right;\">\n",
       "      <th></th>\n",
       "      <th>Date</th>\n",
       "      <th>Label</th>\n",
       "      <th>News_Headlines</th>\n",
       "    </tr>\n",
       "  </thead>\n",
       "  <tbody>\n",
       "    <tr>\n",
       "      <th>0</th>\n",
       "      <td>08-08-2008</td>\n",
       "      <td>0</td>\n",
       "      <td>b\"Georgia 'downs two Russian warplanes' as cou...</td>\n",
       "    </tr>\n",
       "    <tr>\n",
       "      <th>1</th>\n",
       "      <td>11-08-2008</td>\n",
       "      <td>1</td>\n",
       "      <td>b'Why wont America and Nato help us? If they w...</td>\n",
       "    </tr>\n",
       "    <tr>\n",
       "      <th>2</th>\n",
       "      <td>12-08-2008</td>\n",
       "      <td>0</td>\n",
       "      <td>b'Remember that adorable 9-year-old who sang a...</td>\n",
       "    </tr>\n",
       "    <tr>\n",
       "      <th>3</th>\n",
       "      <td>13-08-2008</td>\n",
       "      <td>0</td>\n",
       "      <td>b' U.S. refuses Israel weapons to attack Iran:...</td>\n",
       "    </tr>\n",
       "  </tbody>\n",
       "</table>\n",
       "</div>"
      ],
      "text/plain": [
       "         Date  Label                                     News_Headlines\n",
       "0  08-08-2008      0  b\"Georgia 'downs two Russian warplanes' as cou...\n",
       "1  11-08-2008      1  b'Why wont America and Nato help us? If they w...\n",
       "2  12-08-2008      0  b'Remember that adorable 9-year-old who sang a...\n",
       "3  13-08-2008      0  b' U.S. refuses Israel weapons to attack Iran:..."
      ]
     },
     "execution_count": 18,
     "metadata": {},
     "output_type": "execute_result"
    }
   ],
   "source": [
    "data_input_new.head(4)"
   ]
  },
  {
   "cell_type": "code",
   "execution_count": 19,
   "id": "e33bc19f-99cd-4253-84ee-62853f6b9c49",
   "metadata": {},
   "outputs": [],
   "source": [
    "df_model_data = data_input_new.iloc[:,2:]"
   ]
  },
  {
   "cell_type": "code",
   "execution_count": 20,
   "id": "aea5374b-e521-4ae8-aaa6-f952533815f9",
   "metadata": {},
   "outputs": [
    {
     "name": "stdout",
     "output_type": "stream",
     "text": [
      "Data Preprocessing started\n",
      "Data preprocessing completed\n"
     ]
    }
   ],
   "source": [
    "data_preprocessing_complete(df_model_data)\n",
    "print(\"Data preprocessing completed\")"
   ]
  },
  {
   "cell_type": "code",
   "execution_count": 21,
   "id": "96dbd962-409c-4dc9-a197-e169fd8a8b9b",
   "metadata": {},
   "outputs": [],
   "source": [
    "data_process_df = pd.DataFrame(data_processed_list_data)"
   ]
  },
  {
   "cell_type": "code",
   "execution_count": 22,
   "id": "d21b5f9e-2760-4abd-927a-1b96485f7bf8",
   "metadata": {},
   "outputs": [
    {
     "data": {
      "text/plain": [
       "['remember', 'adorable', 'yearold', 'sing', 'opening', 'ceremony', 'fake']"
      ]
     },
     "execution_count": 22,
     "metadata": {},
     "output_type": "execute_result"
    }
   ],
   "source": [
    "#data_processed_list_data_tokens[0:][2]"
   ]
  },
  {
   "cell_type": "code",
   "execution_count": 23,
   "id": "76134339-dd0e-4f13-9c70-c0d84e141278",
   "metadata": {},
   "outputs": [],
   "source": [
    "data_input_new[\"News Processed\"] = data_process_df\n",
    "data_input_new[\"Tokens\"] = data_processed_list_data_tokens"
   ]
  },
  {
   "cell_type": "code",
   "execution_count": null,
   "id": "269744c1-69f9-4522-ba7f-61b974ddc7e9",
   "metadata": {},
   "outputs": [],
   "source": [
    "#data_process_df[\"Tokens\"] = data_processed_list_data_tokens"
   ]
  },
  {
   "cell_type": "code",
   "execution_count": null,
   "id": "e1ee05c5-774d-47a7-b052-55602f21b439",
   "metadata": {},
   "outputs": [],
   "source": []
  },
  {
   "cell_type": "code",
   "execution_count": 24,
   "id": "48ebbf8e-33a3-46f4-97a0-23a7aa8c3c38",
   "metadata": {},
   "outputs": [
    {
     "data": {
      "text/html": [
       "<div>\n",
       "<style scoped>\n",
       "    .dataframe tbody tr th:only-of-type {\n",
       "        vertical-align: middle;\n",
       "    }\n",
       "\n",
       "    .dataframe tbody tr th {\n",
       "        vertical-align: top;\n",
       "    }\n",
       "\n",
       "    .dataframe thead th {\n",
       "        text-align: right;\n",
       "    }\n",
       "</style>\n",
       "<table border=\"1\" class=\"dataframe\">\n",
       "  <thead>\n",
       "    <tr style=\"text-align: right;\">\n",
       "      <th></th>\n",
       "      <th>Date</th>\n",
       "      <th>Label</th>\n",
       "      <th>News_Headlines</th>\n",
       "      <th>News Processed</th>\n",
       "      <th>Tokens</th>\n",
       "    </tr>\n",
       "  </thead>\n",
       "  <tbody>\n",
       "    <tr>\n",
       "      <th>0</th>\n",
       "      <td>08-08-2008</td>\n",
       "      <td>0</td>\n",
       "      <td>b\"Georgia 'downs two Russian warplanes' as cou...</td>\n",
       "      <td>georgia downs two russian warplanes as countri...</td>\n",
       "      <td>[georgia, russian, warplane, country, move, br...</td>\n",
       "    </tr>\n",
       "    <tr>\n",
       "      <th>1</th>\n",
       "      <td>11-08-2008</td>\n",
       "      <td>1</td>\n",
       "      <td>b'Why wont America and Nato help us? If they w...</td>\n",
       "      <td>why wont america and nato help us if they wont...</td>\n",
       "      <td>[wont, america, nato, help, wont, help, help, ...</td>\n",
       "    </tr>\n",
       "    <tr>\n",
       "      <th>2</th>\n",
       "      <td>12-08-2008</td>\n",
       "      <td>0</td>\n",
       "      <td>b'Remember that adorable 9-year-old who sang a...</td>\n",
       "      <td>remember that adorable yearold who sang at the...</td>\n",
       "      <td>[remember, adorable, yearold, sing, opening, c...</td>\n",
       "    </tr>\n",
       "    <tr>\n",
       "      <th>3</th>\n",
       "      <td>13-08-2008</td>\n",
       "      <td>0</td>\n",
       "      <td>b' U.S. refuses Israel weapons to attack Iran:...</td>\n",
       "      <td>us refuses israel weapons to attack iran report</td>\n",
       "      <td>[refuse, israel, weapon, attack, iran, report]</td>\n",
       "    </tr>\n",
       "    <tr>\n",
       "      <th>4</th>\n",
       "      <td>14-08-2008</td>\n",
       "      <td>1</td>\n",
       "      <td>b'All the experts admit that we should legalis...</td>\n",
       "      <td>all the experts admit that we should legalise ...</td>\n",
       "      <td>[expert, admit, legalise, drug]</td>\n",
       "    </tr>\n",
       "  </tbody>\n",
       "</table>\n",
       "</div>"
      ],
      "text/plain": [
       "         Date  Label                                     News_Headlines  \\\n",
       "0  08-08-2008      0  b\"Georgia 'downs two Russian warplanes' as cou...   \n",
       "1  11-08-2008      1  b'Why wont America and Nato help us? If they w...   \n",
       "2  12-08-2008      0  b'Remember that adorable 9-year-old who sang a...   \n",
       "3  13-08-2008      0  b' U.S. refuses Israel weapons to attack Iran:...   \n",
       "4  14-08-2008      1  b'All the experts admit that we should legalis...   \n",
       "\n",
       "                                      News Processed  \\\n",
       "0  georgia downs two russian warplanes as countri...   \n",
       "1  why wont america and nato help us if they wont...   \n",
       "2  remember that adorable yearold who sang at the...   \n",
       "3    us refuses israel weapons to attack iran report   \n",
       "4  all the experts admit that we should legalise ...   \n",
       "\n",
       "                                              Tokens  \n",
       "0  [georgia, russian, warplane, country, move, br...  \n",
       "1  [wont, america, nato, help, wont, help, help, ...  \n",
       "2  [remember, adorable, yearold, sing, opening, c...  \n",
       "3     [refuse, israel, weapon, attack, iran, report]  \n",
       "4                    [expert, admit, legalise, drug]  "
      ]
     },
     "execution_count": 24,
     "metadata": {},
     "output_type": "execute_result"
    }
   ],
   "source": [
    "data_input_new.head(5)"
   ]
  },
  {
   "cell_type": "code",
   "execution_count": 25,
   "id": "44bbc015-159a-42de-8646-8845d0fd6bd3",
   "metadata": {},
   "outputs": [
    {
     "name": "stdout",
     "output_type": "stream",
     "text": [
      "process completed\n",
      "Wall time: 9min 37s\n"
     ]
    }
   ],
   "source": [
    "%%time\n",
    "dict_token = {}\n",
    "tok_len = len(data_processed_list_data_tokens)\n",
    "#dict_set = set()\n",
    "data_corpus = list()\n",
    "for len_1 in range(tok_len):\n",
    "    for k in data_processed_list_data_tokens[0:][len_1]:\n",
    "        data_corpus.append(k)\n",
    "for len_2 in range(tok_len):\n",
    "    count = 0\n",
    "    for k in data_processed_list_data_tokens[0:][len_2]:\n",
    "        if k not in dict_token.keys():\n",
    "            #print(data_processed_list_data_tokens[len_1])\n",
    "            count = data_corpus.count(k)\n",
    "            dict_token[k] = count\n",
    "            #print(count)\n",
    "        else:\n",
    "            pass\n",
    "print(\"process completed\")   \n",
    "### Create Corpus to word count"
   ]
  },
  {
   "cell_type": "code",
   "execution_count": 26,
   "id": "b6f62190-38b7-4d78-8420-33acde44d0fa",
   "metadata": {},
   "outputs": [],
   "source": [
    "df_tokens_count = pd.DataFrame(dict_token.items())\n",
    "df_tokens_count.columns = ['Data_Tokens','Count']\n",
    "df_tokens_count = df_tokens_count.sort_values('Count',ascending=False)"
   ]
  },
  {
   "cell_type": "code",
   "execution_count": 27,
   "id": "2856cd5d-8230-453e-9a5e-d5e680aae178",
   "metadata": {},
   "outputs": [],
   "source": [
    "df_tokens_count.to_excel(\"Tokens.xlsx\")"
   ]
  },
  {
   "cell_type": "code",
   "execution_count": 28,
   "id": "389b0c0a-1825-4e32-bfe4-089c5cb11c50",
   "metadata": {},
   "outputs": [],
   "source": [
    "df_tokens_count_plot = df_tokens_count.iloc[:50,:]"
   ]
  },
  {
   "cell_type": "code",
   "execution_count": 29,
   "id": "33f36473-f73d-45a2-b8f9-8578dabac99e",
   "metadata": {},
   "outputs": [
    {
     "data": {
      "text/html": [
       "<div>\n",
       "<style scoped>\n",
       "    .dataframe tbody tr th:only-of-type {\n",
       "        vertical-align: middle;\n",
       "    }\n",
       "\n",
       "    .dataframe tbody tr th {\n",
       "        vertical-align: top;\n",
       "    }\n",
       "\n",
       "    .dataframe thead th {\n",
       "        text-align: right;\n",
       "    }\n",
       "</style>\n",
       "<table border=\"1\" class=\"dataframe\">\n",
       "  <thead>\n",
       "    <tr style=\"text-align: right;\">\n",
       "      <th></th>\n",
       "      <th>Data_Tokens</th>\n",
       "      <th>Count</th>\n",
       "    </tr>\n",
       "  </thead>\n",
       "  <tbody>\n",
       "    <tr>\n",
       "      <th>85</th>\n",
       "      <td>say</td>\n",
       "      <td>4834</td>\n",
       "    </tr>\n",
       "    <tr>\n",
       "      <th>44</th>\n",
       "      <td>year</td>\n",
       "      <td>2588</td>\n",
       "    </tr>\n",
       "    <tr>\n",
       "      <th>276</th>\n",
       "      <td>new</td>\n",
       "      <td>2415</td>\n",
       "    </tr>\n",
       "    <tr>\n",
       "      <th>174</th>\n",
       "      <td>world</td>\n",
       "      <td>2412</td>\n",
       "    </tr>\n",
       "    <tr>\n",
       "      <th>295</th>\n",
       "      <td>kill</td>\n",
       "      <td>2407</td>\n",
       "    </tr>\n",
       "  </tbody>\n",
       "</table>\n",
       "</div>"
      ],
      "text/plain": [
       "    Data_Tokens  Count\n",
       "85          say   4834\n",
       "44         year   2588\n",
       "276         new   2415\n",
       "174       world   2412\n",
       "295        kill   2407"
      ]
     },
     "execution_count": 29,
     "metadata": {},
     "output_type": "execute_result"
    }
   ],
   "source": [
    "df_tokens_count_plot.head()"
   ]
  },
  {
   "cell_type": "code",
   "execution_count": 30,
   "id": "947c3dfb-efb2-44d8-b99a-9deece1aaa91",
   "metadata": {},
   "outputs": [
    {
     "data": {
      "text/plain": [
       "<AxesSubplot:xlabel='Data_Tokens'>"
      ]
     },
     "execution_count": 30,
     "metadata": {},
     "output_type": "execute_result"
    },
    {
     "data": {
      "image/png": "[encoded data removed]",
      "text/plain": [
       "<Figure size 3600x3600 with 1 Axes>"
      ]
     },
     "metadata": {
      "needs_background": "light"
     },
     "output_type": "display_data"
    }
   ],
   "source": [
    "### Bar Plot top 50 values\n",
    "df_tokens_count_plot.plot(kind='bar',x='Data_Tokens',y='Count',figsize=(50,50))"
   ]
  },
  {
   "cell_type": "code",
   "execution_count": 31,
   "id": "36a429c8-448c-445e-b6a7-fa8da89d2eed",
   "metadata": {},
   "outputs": [],
   "source": [
    "def datasentiprocess(in_raw):\n",
    "    \"\"\"This Function performs sentimential analysis on data\"\"\"\n",
    "    sentence = flair.data.Sentence(in_raw)\n",
    "    sentiment_model.predict(sentence)\n",
    "    sentiment = sentence.labels[0].value  # 'POSITIVE' or 'NEGATIVE'\n",
    "    probability = sentence.labels[0].score  # numerical value 0-1\n",
    "    return sentiment"
   ]
  },
  {
   "cell_type": "code",
   "execution_count": 32,
   "id": "2b319e8d-2078-4a0a-8350-9e7d6838c5d2",
   "metadata": {},
   "outputs": [],
   "source": [
    "### Now begining of sentimental Analysis\n",
    "data_processed_list_senti = list()\n",
    "#### Function for Preprossing of Data ####\n",
    "def Sentimential_analysis(data_input):\n",
    "    \"\"\" This Does a Sentimential Analysis\"\"\"    \n",
    "    print('Data Sentimential Analysis started')\n",
    "    width_dp_df = np.shape(data_input)[1]\n",
    "    length_dp_df = np.shape(data_input)[0]\n",
    "    for i in range(length_dp_df):\n",
    "        data_modi_list = list()\n",
    "        data_modi_list1 = list()\n",
    "        for k in range(width_dp_df):\n",
    "                data = data_input.iloc[i][k]\n",
    "                ########## Function to process data ####\n",
    "                data_senti = datasentiprocess(data)\n",
    "                data_modi_list.append(data_senti)\n",
    "        data_processed_list_senti.insert(i,data_modi_list[0])"
   ]
  },
  {
   "cell_type": "code",
   "execution_count": 33,
   "id": "61896f5a-030b-4f22-8e5b-7c3b0495a9ce",
   "metadata": {},
   "outputs": [
    {
     "data": {
      "text/html": [
       "<div>\n",
       "<style scoped>\n",
       "    .dataframe tbody tr th:only-of-type {\n",
       "        vertical-align: middle;\n",
       "    }\n",
       "\n",
       "    .dataframe tbody tr th {\n",
       "        vertical-align: top;\n",
       "    }\n",
       "\n",
       "    .dataframe thead th {\n",
       "        text-align: right;\n",
       "    }\n",
       "</style>\n",
       "<table border=\"1\" class=\"dataframe\">\n",
       "  <thead>\n",
       "    <tr style=\"text-align: right;\">\n",
       "      <th></th>\n",
       "      <th>News Processed</th>\n",
       "    </tr>\n",
       "  </thead>\n",
       "  <tbody>\n",
       "    <tr>\n",
       "      <th>0</th>\n",
       "      <td>georgia downs two russian warplanes as countri...</td>\n",
       "    </tr>\n",
       "    <tr>\n",
       "      <th>1</th>\n",
       "      <td>why wont america and nato help us if they wont...</td>\n",
       "    </tr>\n",
       "    <tr>\n",
       "      <th>2</th>\n",
       "      <td>remember that adorable yearold who sang at the...</td>\n",
       "    </tr>\n",
       "    <tr>\n",
       "      <th>3</th>\n",
       "      <td>us refuses israel weapons to attack iran report</td>\n",
       "    </tr>\n",
       "    <tr>\n",
       "      <th>4</th>\n",
       "      <td>all the experts admit that we should legalise ...</td>\n",
       "    </tr>\n",
       "    <tr>\n",
       "      <th>...</th>\n",
       "      <td>...</td>\n",
       "    </tr>\n",
       "    <tr>\n",
       "      <th>49645</th>\n",
       "      <td>pakistani clerics declare transgender marriage...</td>\n",
       "    </tr>\n",
       "    <tr>\n",
       "      <th>49646</th>\n",
       "      <td>mexicos security forces routinely use sexual t...</td>\n",
       "    </tr>\n",
       "    <tr>\n",
       "      <th>49647</th>\n",
       "      <td>tiny new zealand town with too many jobs launc...</td>\n",
       "    </tr>\n",
       "    <tr>\n",
       "      <th>49648</th>\n",
       "      <td>law enforcement sources gun used in paris terr...</td>\n",
       "    </tr>\n",
       "    <tr>\n",
       "      <th>49649</th>\n",
       "      <td>ozone layer hole seems to be healing us amp uk...</td>\n",
       "    </tr>\n",
       "  </tbody>\n",
       "</table>\n",
       "<p>49650 rows × 1 columns</p>\n",
       "</div>"
      ],
      "text/plain": [
       "                                          News Processed\n",
       "0      georgia downs two russian warplanes as countri...\n",
       "1      why wont america and nato help us if they wont...\n",
       "2      remember that adorable yearold who sang at the...\n",
       "3        us refuses israel weapons to attack iran report\n",
       "4      all the experts admit that we should legalise ...\n",
       "...                                                  ...\n",
       "49645  pakistani clerics declare transgender marriage...\n",
       "49646  mexicos security forces routinely use sexual t...\n",
       "49647  tiny new zealand town with too many jobs launc...\n",
       "49648  law enforcement sources gun used in paris terr...\n",
       "49649  ozone layer hole seems to be healing us amp uk...\n",
       "\n",
       "[49650 rows x 1 columns]"
      ]
     },
     "execution_count": 33,
     "metadata": {},
     "output_type": "execute_result"
    }
   ],
   "source": [
    "data_input_new.iloc[:,3:4]"
   ]
  },
  {
   "cell_type": "code",
   "execution_count": 34,
   "id": "0baee10d-223c-4aab-929b-934206c69a5b",
   "metadata": {},
   "outputs": [
    {
     "name": "stdout",
     "output_type": "stream",
     "text": [
      "Data Sentimential Analysis started\n",
      "Syntemential analysis completed\n",
      "Wall time: 49min 42s\n"
     ]
    }
   ],
   "source": [
    "%%time\n",
    "Sentimential_analysis(data_input_new.iloc[:,3:4])\n",
    "print(\"Syntemential analysis completed\")"
   ]
  },
  {
   "cell_type": "code",
   "execution_count": 35,
   "id": "78f557b5-7b82-4550-a137-84e510e5f015",
   "metadata": {},
   "outputs": [
    {
     "data": {
      "text/plain": [
       "['NEGATIVE',\n",
       " 'NEGATIVE',\n",
       " 'POSITIVE',\n",
       " 'NEGATIVE',\n",
       " 'POSITIVE',\n",
       " 'NEGATIVE',\n",
       " 'NEGATIVE',\n",
       " 'NEGATIVE',\n",
       " 'NEGATIVE',\n",
       " 'NEGATIVE']"
      ]
     },
     "execution_count": 35,
     "metadata": {},
     "output_type": "execute_result"
    }
   ],
   "source": [
    "data_processed_list_senti[0:10]"
   ]
  },
  {
   "cell_type": "code",
   "execution_count": 36,
   "id": "94c77df2-8ccc-44f3-841f-50dbc0946070",
   "metadata": {},
   "outputs": [],
   "source": [
    "data_input_new[\"Sentiment\"] = data_processed_list_senti"
   ]
  },
  {
   "cell_type": "code",
   "execution_count": 37,
   "id": "6e5792e7-1f29-48aa-8720-ac5055945489",
   "metadata": {},
   "outputs": [
    {
     "data": {
      "text/html": [
       "<div>\n",
       "<style scoped>\n",
       "    .dataframe tbody tr th:only-of-type {\n",
       "        vertical-align: middle;\n",
       "    }\n",
       "\n",
       "    .dataframe tbody tr th {\n",
       "        vertical-align: top;\n",
       "    }\n",
       "\n",
       "    .dataframe thead th {\n",
       "        text-align: right;\n",
       "    }\n",
       "</style>\n",
       "<table border=\"1\" class=\"dataframe\">\n",
       "  <thead>\n",
       "    <tr style=\"text-align: right;\">\n",
       "      <th></th>\n",
       "      <th>Date</th>\n",
       "      <th>Label</th>\n",
       "      <th>News_Headlines</th>\n",
       "      <th>News Processed</th>\n",
       "      <th>Tokens</th>\n",
       "      <th>Sentiment</th>\n",
       "    </tr>\n",
       "  </thead>\n",
       "  <tbody>\n",
       "    <tr>\n",
       "      <th>0</th>\n",
       "      <td>08-08-2008</td>\n",
       "      <td>0</td>\n",
       "      <td>b\"Georgia 'downs two Russian warplanes' as cou...</td>\n",
       "      <td>georgia downs two russian warplanes as countri...</td>\n",
       "      <td>[georgia, russian, warplane, country, move, br...</td>\n",
       "      <td>NEGATIVE</td>\n",
       "    </tr>\n",
       "    <tr>\n",
       "      <th>1</th>\n",
       "      <td>11-08-2008</td>\n",
       "      <td>1</td>\n",
       "      <td>b'Why wont America and Nato help us? If they w...</td>\n",
       "      <td>why wont america and nato help us if they wont...</td>\n",
       "      <td>[wont, america, nato, help, wont, help, help, ...</td>\n",
       "      <td>NEGATIVE</td>\n",
       "    </tr>\n",
       "    <tr>\n",
       "      <th>2</th>\n",
       "      <td>12-08-2008</td>\n",
       "      <td>0</td>\n",
       "      <td>b'Remember that adorable 9-year-old who sang a...</td>\n",
       "      <td>remember that adorable yearold who sang at the...</td>\n",
       "      <td>[remember, adorable, yearold, sing, opening, c...</td>\n",
       "      <td>POSITIVE</td>\n",
       "    </tr>\n",
       "    <tr>\n",
       "      <th>3</th>\n",
       "      <td>13-08-2008</td>\n",
       "      <td>0</td>\n",
       "      <td>b' U.S. refuses Israel weapons to attack Iran:...</td>\n",
       "      <td>us refuses israel weapons to attack iran report</td>\n",
       "      <td>[refuse, israel, weapon, attack, iran, report]</td>\n",
       "      <td>NEGATIVE</td>\n",
       "    </tr>\n",
       "    <tr>\n",
       "      <th>4</th>\n",
       "      <td>14-08-2008</td>\n",
       "      <td>1</td>\n",
       "      <td>b'All the experts admit that we should legalis...</td>\n",
       "      <td>all the experts admit that we should legalise ...</td>\n",
       "      <td>[expert, admit, legalise, drug]</td>\n",
       "      <td>POSITIVE</td>\n",
       "    </tr>\n",
       "  </tbody>\n",
       "</table>\n",
       "</div>"
      ],
      "text/plain": [
       "         Date  Label                                     News_Headlines  \\\n",
       "0  08-08-2008      0  b\"Georgia 'downs two Russian warplanes' as cou...   \n",
       "1  11-08-2008      1  b'Why wont America and Nato help us? If they w...   \n",
       "2  12-08-2008      0  b'Remember that adorable 9-year-old who sang a...   \n",
       "3  13-08-2008      0  b' U.S. refuses Israel weapons to attack Iran:...   \n",
       "4  14-08-2008      1  b'All the experts admit that we should legalis...   \n",
       "\n",
       "                                      News Processed  \\\n",
       "0  georgia downs two russian warplanes as countri...   \n",
       "1  why wont america and nato help us if they wont...   \n",
       "2  remember that adorable yearold who sang at the...   \n",
       "3    us refuses israel weapons to attack iran report   \n",
       "4  all the experts admit that we should legalise ...   \n",
       "\n",
       "                                              Tokens Sentiment  \n",
       "0  [georgia, russian, warplane, country, move, br...  NEGATIVE  \n",
       "1  [wont, america, nato, help, wont, help, help, ...  NEGATIVE  \n",
       "2  [remember, adorable, yearold, sing, opening, c...  POSITIVE  \n",
       "3     [refuse, israel, weapon, attack, iran, report]  NEGATIVE  \n",
       "4                    [expert, admit, legalise, drug]  POSITIVE  "
      ]
     },
     "execution_count": 37,
     "metadata": {},
     "output_type": "execute_result"
    }
   ],
   "source": [
    "data_input_new.head(5)"
   ]
  },
  {
   "cell_type": "code",
   "execution_count": 38,
   "id": "a21133e5-fcf2-47f2-ac8e-015be00cdfab",
   "metadata": {},
   "outputs": [],
   "source": [
    "data_input_new.to_excel(\"Data_senti.xlsx\")"
   ]
  },
  {
   "cell_type": "code",
   "execution_count": 39,
   "id": "92c77eb7-bcb2-4344-841a-c059e0441e74",
   "metadata": {},
   "outputs": [],
   "source": [
    "### Plot to sentiment in Complete DataSet\n",
    "df_plot = data_input_new.groupby(\"Sentiment\").count()[\"News Processed\"]"
   ]
  },
  {
   "cell_type": "code",
   "execution_count": 40,
   "id": "161c0818-5a96-4f16-9129-acd9de7636fa",
   "metadata": {},
   "outputs": [
    {
     "data": {
      "text/plain": [
       "Sentiment\n",
       "NEGATIVE    40489\n",
       "POSITIVE     9161\n",
       "Name: News Processed, dtype: int64"
      ]
     },
     "execution_count": 40,
     "metadata": {},
     "output_type": "execute_result"
    }
   ],
   "source": [
    "df_plot"
   ]
  },
  {
   "cell_type": "code",
   "execution_count": 41,
   "id": "0cd09d5d-6b29-4f4a-baf1-20f5c068dbcd",
   "metadata": {},
   "outputs": [
    {
     "data": {
      "text/plain": [
       "<AxesSubplot:xlabel='Sentiment'>"
      ]
     },
     "execution_count": 41,
     "metadata": {},
     "output_type": "execute_result"
    },
    {
     "data": {
      "image/png": "[encoded data removed]",
      "text/plain": [
       "<Figure size 720x720 with 1 Axes>"
      ]
     },
     "metadata": {
      "needs_background": "light"
     },
     "output_type": "display_data"
    }
   ],
   "source": [
    "df_plot.plot(kind='bar',figsize=(10,10))"
   ]
  },
  {
   "cell_type": "code",
   "execution_count": 42,
   "id": "d5212966-2dd7-4b58-a553-2fdadcbc9707",
   "metadata": {},
   "outputs": [
    {
     "name": "stdout",
     "output_type": "stream",
     "text": [
      "process completed\n",
      "49650\n",
      "49650\n"
     ]
    }
   ],
   "source": [
    "#### Adding New column month and year\n",
    "month = list()\n",
    "year  = list()\n",
    "for i in data_input_new['Date']:\n",
    "    d1 = i.split('-')\n",
    "    month.append(d1[1])\n",
    "    year.append(d1[2])\n",
    "print(\"process completed\")\n",
    "print(len(month))\n",
    "print(len(year))\n",
    "data_input_new['Month'] = month\n",
    "data_input_new['Year'] = year"
   ]
  },
  {
   "cell_type": "code",
   "execution_count": 43,
   "id": "ce4ece92-c70f-444e-9275-7841e05ff052",
   "metadata": {},
   "outputs": [],
   "source": [
    "### Ploting of Graph of market movement with resepct to data\n",
    "data_input1 = data_input_new[['Month','Year','Label']]"
   ]
  },
  {
   "cell_type": "code",
   "execution_count": 44,
   "id": "1bb43a71-aa20-4f8a-916d-f7071981615f",
   "metadata": {},
   "outputs": [],
   "source": [
    "df_plot_mean = (data_input1.groupby([\"Month\",\"Year\"])['Label'].mean().unstack())"
   ]
  },
  {
   "cell_type": "code",
   "execution_count": 45,
   "id": "491f8c69-49b6-40ca-b438-001774cf6bf0",
   "metadata": {},
   "outputs": [
    {
     "data": {
      "text/plain": [
       "<AxesSubplot:xlabel='Month'>"
      ]
     },
     "execution_count": 45,
     "metadata": {},
     "output_type": "execute_result"
    },
    {
     "data": {
      "image/png": "[encoded data removed]",
      "text/plain": [
       "<Figure size 1440x1440 with 1 Axes>"
      ]
     },
     "metadata": {
      "needs_background": "light"
     },
     "output_type": "display_data"
    }
   ],
   "source": [
    "df_plot_mean.plot(figsize=(20,20))"
   ]
  },
  {
   "cell_type": "code",
   "execution_count": null,
   "id": "f5c62cf3-1e1a-41bd-982e-6bafc486c1ad",
   "metadata": {},
   "outputs": [],
   "source": [
    "### Now we have selected facebook as company for doing our analysis"
   ]
  },
  {
   "cell_type": "code",
   "execution_count": 412,
   "id": "a5c2ca76-52c2-42d5-9ec0-09d9c4881ef9",
   "metadata": {},
   "outputs": [],
   "source": [
    "pd_company_stock = pd.read_csv(\"FB.csv\")"
   ]
  },
  {
   "cell_type": "code",
   "execution_count": 413,
   "id": "d6c628ec-f1fd-4351-b8d6-2253fa6c3e68",
   "metadata": {},
   "outputs": [
    {
     "data": {
      "text/html": [
       "<div>\n",
       "<style scoped>\n",
       "    .dataframe tbody tr th:only-of-type {\n",
       "        vertical-align: middle;\n",
       "    }\n",
       "\n",
       "    .dataframe tbody tr th {\n",
       "        vertical-align: top;\n",
       "    }\n",
       "\n",
       "    .dataframe thead th {\n",
       "        text-align: right;\n",
       "    }\n",
       "</style>\n",
       "<table border=\"1\" class=\"dataframe\">\n",
       "  <thead>\n",
       "    <tr style=\"text-align: right;\">\n",
       "      <th></th>\n",
       "      <th>Date</th>\n",
       "      <th>Open</th>\n",
       "      <th>High</th>\n",
       "      <th>Low</th>\n",
       "      <th>Close</th>\n",
       "      <th>Adj Close</th>\n",
       "      <th>Volume</th>\n",
       "    </tr>\n",
       "  </thead>\n",
       "  <tbody>\n",
       "    <tr>\n",
       "      <th>0</th>\n",
       "      <td>2012-05-18</td>\n",
       "      <td>42.049999</td>\n",
       "      <td>45.000000</td>\n",
       "      <td>38.000000</td>\n",
       "      <td>38.230000</td>\n",
       "      <td>38.230000</td>\n",
       "      <td>573576400</td>\n",
       "    </tr>\n",
       "    <tr>\n",
       "      <th>1</th>\n",
       "      <td>2012-05-21</td>\n",
       "      <td>36.529999</td>\n",
       "      <td>36.660000</td>\n",
       "      <td>33.000000</td>\n",
       "      <td>34.029999</td>\n",
       "      <td>34.029999</td>\n",
       "      <td>168192700</td>\n",
       "    </tr>\n",
       "    <tr>\n",
       "      <th>2</th>\n",
       "      <td>2012-05-22</td>\n",
       "      <td>32.610001</td>\n",
       "      <td>33.590000</td>\n",
       "      <td>30.940001</td>\n",
       "      <td>31.000000</td>\n",
       "      <td>31.000000</td>\n",
       "      <td>101786600</td>\n",
       "    </tr>\n",
       "    <tr>\n",
       "      <th>3</th>\n",
       "      <td>2012-05-23</td>\n",
       "      <td>31.370001</td>\n",
       "      <td>32.500000</td>\n",
       "      <td>31.360001</td>\n",
       "      <td>32.000000</td>\n",
       "      <td>32.000000</td>\n",
       "      <td>73600000</td>\n",
       "    </tr>\n",
       "    <tr>\n",
       "      <th>4</th>\n",
       "      <td>2012-05-24</td>\n",
       "      <td>32.950001</td>\n",
       "      <td>33.209999</td>\n",
       "      <td>31.770000</td>\n",
       "      <td>33.029999</td>\n",
       "      <td>33.029999</td>\n",
       "      <td>50237200</td>\n",
       "    </tr>\n",
       "  </tbody>\n",
       "</table>\n",
       "</div>"
      ],
      "text/plain": [
       "         Date       Open       High        Low      Close  Adj Close  \\\n",
       "0  2012-05-18  42.049999  45.000000  38.000000  38.230000  38.230000   \n",
       "1  2012-05-21  36.529999  36.660000  33.000000  34.029999  34.029999   \n",
       "2  2012-05-22  32.610001  33.590000  30.940001  31.000000  31.000000   \n",
       "3  2012-05-23  31.370001  32.500000  31.360001  32.000000  32.000000   \n",
       "4  2012-05-24  32.950001  33.209999  31.770000  33.029999  33.029999   \n",
       "\n",
       "      Volume  \n",
       "0  573576400  \n",
       "1  168192700  \n",
       "2  101786600  \n",
       "3   73600000  \n",
       "4   50237200  "
      ]
     },
     "execution_count": 413,
     "metadata": {},
     "output_type": "execute_result"
    }
   ],
   "source": [
    "pd_company_stock.head(5)"
   ]
  },
  {
   "cell_type": "code",
   "execution_count": 414,
   "id": "52db08d7-7284-4e23-ab69-4d76d9ae1fc2",
   "metadata": {},
   "outputs": [
    {
     "data": {
      "text/html": [
       "<div>\n",
       "<style scoped>\n",
       "    .dataframe tbody tr th:only-of-type {\n",
       "        vertical-align: middle;\n",
       "    }\n",
       "\n",
       "    .dataframe tbody tr th {\n",
       "        vertical-align: top;\n",
       "    }\n",
       "\n",
       "    .dataframe thead th {\n",
       "        text-align: right;\n",
       "    }\n",
       "</style>\n",
       "<table border=\"1\" class=\"dataframe\">\n",
       "  <thead>\n",
       "    <tr style=\"text-align: right;\">\n",
       "      <th></th>\n",
       "      <th>Date</th>\n",
       "      <th>Open</th>\n",
       "      <th>High</th>\n",
       "      <th>Low</th>\n",
       "      <th>Close</th>\n",
       "      <th>Adj Close</th>\n",
       "      <th>Volume</th>\n",
       "    </tr>\n",
       "  </thead>\n",
       "  <tbody>\n",
       "    <tr>\n",
       "      <th>1975</th>\n",
       "      <td>2020-03-26</td>\n",
       "      <td>158.250000</td>\n",
       "      <td>164.000000</td>\n",
       "      <td>157.020004</td>\n",
       "      <td>163.339996</td>\n",
       "      <td>163.339996</td>\n",
       "      <td>26556800</td>\n",
       "    </tr>\n",
       "    <tr>\n",
       "      <th>1976</th>\n",
       "      <td>2020-03-27</td>\n",
       "      <td>158.199997</td>\n",
       "      <td>160.089996</td>\n",
       "      <td>154.750000</td>\n",
       "      <td>156.789993</td>\n",
       "      <td>156.789993</td>\n",
       "      <td>24879900</td>\n",
       "    </tr>\n",
       "    <tr>\n",
       "      <th>1977</th>\n",
       "      <td>2020-03-30</td>\n",
       "      <td>159.179993</td>\n",
       "      <td>166.750000</td>\n",
       "      <td>158.059998</td>\n",
       "      <td>165.949997</td>\n",
       "      <td>165.949997</td>\n",
       "      <td>22515200</td>\n",
       "    </tr>\n",
       "    <tr>\n",
       "      <th>1978</th>\n",
       "      <td>2020-03-31</td>\n",
       "      <td>165.479996</td>\n",
       "      <td>170.929993</td>\n",
       "      <td>164.199997</td>\n",
       "      <td>166.800003</td>\n",
       "      <td>166.800003</td>\n",
       "      <td>23676300</td>\n",
       "    </tr>\n",
       "    <tr>\n",
       "      <th>1979</th>\n",
       "      <td>2020-04-01</td>\n",
       "      <td>161.619995</td>\n",
       "      <td>164.149994</td>\n",
       "      <td>158.039993</td>\n",
       "      <td>159.600006</td>\n",
       "      <td>159.600006</td>\n",
       "      <td>19491500</td>\n",
       "    </tr>\n",
       "  </tbody>\n",
       "</table>\n",
       "</div>"
      ],
      "text/plain": [
       "            Date        Open        High         Low       Close   Adj Close  \\\n",
       "1975  2020-03-26  158.250000  164.000000  157.020004  163.339996  163.339996   \n",
       "1976  2020-03-27  158.199997  160.089996  154.750000  156.789993  156.789993   \n",
       "1977  2020-03-30  159.179993  166.750000  158.059998  165.949997  165.949997   \n",
       "1978  2020-03-31  165.479996  170.929993  164.199997  166.800003  166.800003   \n",
       "1979  2020-04-01  161.619995  164.149994  158.039993  159.600006  159.600006   \n",
       "\n",
       "        Volume  \n",
       "1975  26556800  \n",
       "1976  24879900  \n",
       "1977  22515200  \n",
       "1978  23676300  \n",
       "1979  19491500  "
      ]
     },
     "execution_count": 414,
     "metadata": {},
     "output_type": "execute_result"
    }
   ],
   "source": [
    "pd_company_stock.tail(5)"
   ]
  },
  {
   "cell_type": "code",
   "execution_count": 415,
   "id": "88d0456b-23af-4287-914a-a3339f356e4f",
   "metadata": {},
   "outputs": [],
   "source": [
    "### Convert Date Format to dd-mm-yyyy\n",
    "def change_date_format(dt):\n",
    "    \"\"\"This Function converts date to dd-mm-yyyy\"\"\"\n",
    "    date_formet = list()\n",
    "    for i in dt:\n",
    "        #print(i)\n",
    "        dtp=re.sub(r'(\\d{4})-(\\d{1,2})-(\\d{1,2})', '\\\\3-\\\\2-\\\\1', i) \n",
    "        #print(type(dtp))\n",
    "        dtp = dtp.split('-')\n",
    "        dtp = ''.join(dtp)\n",
    "        #print(dtp)\n",
    "        date_formet.append(str(dtp))\n",
    "    return date_formet"
   ]
  },
  {
   "cell_type": "code",
   "execution_count": 416,
   "id": "93aa5a26-e925-4162-9ed3-1546ccf4b321",
   "metadata": {},
   "outputs": [],
   "source": [
    "dt_formet = change_date_format(pd_company_stock[\"Date\"])"
   ]
  },
  {
   "cell_type": "code",
   "execution_count": 417,
   "id": "7dba2691-deb8-4d05-bcf4-a3d76f1b5c96",
   "metadata": {},
   "outputs": [],
   "source": [
    "pd_company_stock[\"Date\"] = dt_formet"
   ]
  },
  {
   "cell_type": "code",
   "execution_count": 418,
   "id": "c0da3b27-9209-4b3e-99a7-7672593b9e72",
   "metadata": {},
   "outputs": [
    {
     "data": {
      "text/html": [
       "<div>\n",
       "<style scoped>\n",
       "    .dataframe tbody tr th:only-of-type {\n",
       "        vertical-align: middle;\n",
       "    }\n",
       "\n",
       "    .dataframe tbody tr th {\n",
       "        vertical-align: top;\n",
       "    }\n",
       "\n",
       "    .dataframe thead th {\n",
       "        text-align: right;\n",
       "    }\n",
       "</style>\n",
       "<table border=\"1\" class=\"dataframe\">\n",
       "  <thead>\n",
       "    <tr style=\"text-align: right;\">\n",
       "      <th></th>\n",
       "      <th>Date</th>\n",
       "      <th>Open</th>\n",
       "      <th>High</th>\n",
       "      <th>Low</th>\n",
       "      <th>Close</th>\n",
       "      <th>Adj Close</th>\n",
       "      <th>Volume</th>\n",
       "    </tr>\n",
       "  </thead>\n",
       "  <tbody>\n",
       "    <tr>\n",
       "      <th>0</th>\n",
       "      <td>18052012</td>\n",
       "      <td>42.049999</td>\n",
       "      <td>45.000000</td>\n",
       "      <td>38.000000</td>\n",
       "      <td>38.230000</td>\n",
       "      <td>38.230000</td>\n",
       "      <td>573576400</td>\n",
       "    </tr>\n",
       "    <tr>\n",
       "      <th>1</th>\n",
       "      <td>21052012</td>\n",
       "      <td>36.529999</td>\n",
       "      <td>36.660000</td>\n",
       "      <td>33.000000</td>\n",
       "      <td>34.029999</td>\n",
       "      <td>34.029999</td>\n",
       "      <td>168192700</td>\n",
       "    </tr>\n",
       "    <tr>\n",
       "      <th>2</th>\n",
       "      <td>22052012</td>\n",
       "      <td>32.610001</td>\n",
       "      <td>33.590000</td>\n",
       "      <td>30.940001</td>\n",
       "      <td>31.000000</td>\n",
       "      <td>31.000000</td>\n",
       "      <td>101786600</td>\n",
       "    </tr>\n",
       "    <tr>\n",
       "      <th>3</th>\n",
       "      <td>23052012</td>\n",
       "      <td>31.370001</td>\n",
       "      <td>32.500000</td>\n",
       "      <td>31.360001</td>\n",
       "      <td>32.000000</td>\n",
       "      <td>32.000000</td>\n",
       "      <td>73600000</td>\n",
       "    </tr>\n",
       "    <tr>\n",
       "      <th>4</th>\n",
       "      <td>24052012</td>\n",
       "      <td>32.950001</td>\n",
       "      <td>33.209999</td>\n",
       "      <td>31.770000</td>\n",
       "      <td>33.029999</td>\n",
       "      <td>33.029999</td>\n",
       "      <td>50237200</td>\n",
       "    </tr>\n",
       "  </tbody>\n",
       "</table>\n",
       "</div>"
      ],
      "text/plain": [
       "       Date       Open       High        Low      Close  Adj Close     Volume\n",
       "0  18052012  42.049999  45.000000  38.000000  38.230000  38.230000  573576400\n",
       "1  21052012  36.529999  36.660000  33.000000  34.029999  34.029999  168192700\n",
       "2  22052012  32.610001  33.590000  30.940001  31.000000  31.000000  101786600\n",
       "3  23052012  31.370001  32.500000  31.360001  32.000000  32.000000   73600000\n",
       "4  24052012  32.950001  33.209999  31.770000  33.029999  33.029999   50237200"
      ]
     },
     "execution_count": 418,
     "metadata": {},
     "output_type": "execute_result"
    }
   ],
   "source": [
    "pd_company_stock.head(5)"
   ]
  },
  {
   "cell_type": "code",
   "execution_count": null,
   "id": "759db584-bc3b-4235-833d-e6903d6593d2",
   "metadata": {},
   "outputs": [],
   "source": []
  },
  {
   "cell_type": "code",
   "execution_count": 419,
   "id": "f3730841-6833-48a8-be0c-3df36ca69232",
   "metadata": {},
   "outputs": [],
   "source": [
    "### Now select data which has Amazon token in it\n",
    "def DataFrame_Creation(data_comp,company):\n",
    "    \"\"\"This Function creates data frame for Analysis for a given company\"\"\"\n",
    "    len_df = len(data_comp)\n",
    "    #print(len_df)\n",
    "    data_list = list()\n",
    "    for i in range(len_df):\n",
    "        if company in data_comp[\"Tokens\"][i]:\n",
    "#             print(data_comp[\"Tokens\"][i])\n",
    "#             print(data_comp.iloc[i,:])\n",
    "            data_list.append(i)\n",
    "        else:\n",
    "            pass\n",
    "    return data_list"
   ]
  },
  {
   "cell_type": "code",
   "execution_count": 420,
   "id": "e2867e90-453b-4ac9-ae47-46f36a402e4d",
   "metadata": {},
   "outputs": [],
   "source": [
    "l1=DataFrame_Creation(data_input_new,\"facebook\")"
   ]
  },
  {
   "cell_type": "code",
   "execution_count": 421,
   "id": "0d6ecdff-4bc9-4796-baec-82668c02a0c1",
   "metadata": {},
   "outputs": [
    {
     "data": {
      "text/plain": [
       "222"
      ]
     },
     "execution_count": 421,
     "metadata": {},
     "output_type": "execute_result"
    }
   ],
   "source": [
    "### Total Number of news article having related to \"Google\"\n",
    "len(l1)"
   ]
  },
  {
   "cell_type": "code",
   "execution_count": 422,
   "id": "fc54e72d-e3ff-49cb-a9c7-f54ff46e314f",
   "metadata": {},
   "outputs": [],
   "source": [
    "data_company = data_input_new.iloc[l1,:]"
   ]
  },
  {
   "cell_type": "code",
   "execution_count": 423,
   "id": "507fea43-76e4-460a-a0c4-c25d25f1f15e",
   "metadata": {},
   "outputs": [
    {
     "data": {
      "text/html": [
       "<div>\n",
       "<style scoped>\n",
       "    .dataframe tbody tr th:only-of-type {\n",
       "        vertical-align: middle;\n",
       "    }\n",
       "\n",
       "    .dataframe tbody tr th {\n",
       "        vertical-align: top;\n",
       "    }\n",
       "\n",
       "    .dataframe thead th {\n",
       "        text-align: right;\n",
       "    }\n",
       "</style>\n",
       "<table border=\"1\" class=\"dataframe\">\n",
       "  <thead>\n",
       "    <tr style=\"text-align: right;\">\n",
       "      <th></th>\n",
       "      <th>Date</th>\n",
       "      <th>Label</th>\n",
       "      <th>News_Headlines</th>\n",
       "      <th>News Processed</th>\n",
       "      <th>Tokens</th>\n",
       "      <th>Sentiment</th>\n",
       "      <th>Month</th>\n",
       "      <th>Year</th>\n",
       "    </tr>\n",
       "  </thead>\n",
       "  <tbody>\n",
       "    <tr>\n",
       "      <th>575</th>\n",
       "      <td>22-11-2010</td>\n",
       "      <td>0</td>\n",
       "      <td>Tim Berners-Lee, creator of the world wide web...</td>\n",
       "      <td>tim bernerslee creator of the world wide web w...</td>\n",
       "      <td>[tim, bernerslee, creator, world, wide, web, w...</td>\n",
       "      <td>NEGATIVE</td>\n",
       "      <td>11</td>\n",
       "      <td>2010</td>\n",
       "    </tr>\n",
       "    <tr>\n",
       "      <th>648</th>\n",
       "      <td>09-03-2011</td>\n",
       "      <td>0</td>\n",
       "      <td>Chinese dissident creates a Facebook account u...</td>\n",
       "      <td>chinese dissident creates a facebook account u...</td>\n",
       "      <td>[chinese, dissident, create, facebook, account...</td>\n",
       "      <td>NEGATIVE</td>\n",
       "      <td>03</td>\n",
       "      <td>2011</td>\n",
       "    </tr>\n",
       "    <tr>\n",
       "      <th>750</th>\n",
       "      <td>04-08-2011</td>\n",
       "      <td>0</td>\n",
       "      <td>Facebook facial recognition software violates ...</td>\n",
       "      <td>facebook facial recognition software violates ...</td>\n",
       "      <td>[facebook, facial, recognition, software, viol...</td>\n",
       "      <td>NEGATIVE</td>\n",
       "      <td>08</td>\n",
       "      <td>2011</td>\n",
       "    </tr>\n",
       "    <tr>\n",
       "      <th>869</th>\n",
       "      <td>25-01-2012</td>\n",
       "      <td>1</td>\n",
       "      <td>Europe is considering a sweeping new law that ...</td>\n",
       "      <td>europe is considering a sweeping new law that ...</td>\n",
       "      <td>[europe, consider, sweeping, new, law, force, ...</td>\n",
       "      <td>NEGATIVE</td>\n",
       "      <td>01</td>\n",
       "      <td>2012</td>\n",
       "    </tr>\n",
       "    <tr>\n",
       "      <th>906</th>\n",
       "      <td>19-03-2012</td>\n",
       "      <td>1</td>\n",
       "      <td>Iranians respond to Israeli Facebook initiativ...</td>\n",
       "      <td>iranians respond to israeli facebook initiativ...</td>\n",
       "      <td>[iranian, respond, israeli, facebook, initiati...</td>\n",
       "      <td>NEGATIVE</td>\n",
       "      <td>03</td>\n",
       "      <td>2012</td>\n",
       "    </tr>\n",
       "  </tbody>\n",
       "</table>\n",
       "</div>"
      ],
      "text/plain": [
       "           Date  Label                                     News_Headlines  \\\n",
       "575  22-11-2010      0  Tim Berners-Lee, creator of the world wide web...   \n",
       "648  09-03-2011      0  Chinese dissident creates a Facebook account u...   \n",
       "750  04-08-2011      0  Facebook facial recognition software violates ...   \n",
       "869  25-01-2012      1  Europe is considering a sweeping new law that ...   \n",
       "906  19-03-2012      1  Iranians respond to Israeli Facebook initiativ...   \n",
       "\n",
       "                                        News Processed  \\\n",
       "575  tim bernerslee creator of the world wide web w...   \n",
       "648  chinese dissident creates a facebook account u...   \n",
       "750  facebook facial recognition software violates ...   \n",
       "869  europe is considering a sweeping new law that ...   \n",
       "906  iranians respond to israeli facebook initiativ...   \n",
       "\n",
       "                                                Tokens Sentiment Month  Year  \n",
       "575  [tim, bernerslee, creator, world, wide, web, w...  NEGATIVE    11  2010  \n",
       "648  [chinese, dissident, create, facebook, account...  NEGATIVE    03  2011  \n",
       "750  [facebook, facial, recognition, software, viol...  NEGATIVE    08  2011  \n",
       "869  [europe, consider, sweeping, new, law, force, ...  NEGATIVE    01  2012  \n",
       "906  [iranian, respond, israeli, facebook, initiati...  NEGATIVE    03  2012  "
      ]
     },
     "execution_count": 423,
     "metadata": {},
     "output_type": "execute_result"
    }
   ],
   "source": [
    "### Top 5 Records\n",
    "data_company.head(5)"
   ]
  },
  {
   "cell_type": "code",
   "execution_count": 424,
   "id": "395a7d19-77ec-414c-b62f-0977d45e3f64",
   "metadata": {},
   "outputs": [],
   "source": [
    "### Convert date formet to ddmmyyyy\n",
    "### Convert Date Format to dd-mm-yyyy\n",
    "def change_date_format_V1(dt):\n",
    "    \"\"\"This Function converts date to ddmmyyyy\"\"\"\n",
    "    date_formet = list()\n",
    "    for i in dt:\n",
    "        dtp = i.split('-')\n",
    "        dtp = ''.join(dtp)\n",
    "        date_formet.append(str(dtp))\n",
    "    return date_formet"
   ]
  },
  {
   "cell_type": "code",
   "execution_count": 425,
   "id": "5c635786-452b-45d0-a56d-be8c08d96b98",
   "metadata": {},
   "outputs": [],
   "source": [
    "dt2 = change_date_format_V1(data_company[\"Date\"])"
   ]
  },
  {
   "cell_type": "code",
   "execution_count": 426,
   "id": "280016b6-5ccc-45df-9d84-c2b75e3d0947",
   "metadata": {},
   "outputs": [
    {
     "name": "stderr",
     "output_type": "stream",
     "text": [
      "C:\\Users\\616777\\Anaconda3\\envs\\pyton_test\\lib\\site-packages\\ipykernel_launcher.py:1: SettingWithCopyWarning: \n",
      "A value is trying to be set on a copy of a slice from a DataFrame.\n",
      "Try using .loc[row_indexer,col_indexer] = value instead\n",
      "\n",
      "See the caveats in the documentation: https://pandas.pydata.org/pandas-docs/stable/user_guide/indexing.html#returning-a-view-versus-a-copy\n",
      "  \"\"\"Entry point for launching an IPython kernel.\n"
     ]
    }
   ],
   "source": [
    "data_company[\"Date\"] = dt2"
   ]
  },
  {
   "cell_type": "code",
   "execution_count": 427,
   "id": "ef7111ae-d1eb-4880-8147-99165126d7f1",
   "metadata": {},
   "outputs": [],
   "source": [
    "### Now Merge data_comapny and pd_company_input to create new data frame by using inner join and date as key.\n",
    "data_for_analysis=pd_company_stock.merge(data_company,on=\"Date\",how='inner')"
   ]
  },
  {
   "cell_type": "code",
   "execution_count": 428,
   "id": "a76035df-bcff-4822-91c2-ee809614f079",
   "metadata": {},
   "outputs": [
    {
     "data": {
      "text/html": [
       "<div>\n",
       "<style scoped>\n",
       "    .dataframe tbody tr th:only-of-type {\n",
       "        vertical-align: middle;\n",
       "    }\n",
       "\n",
       "    .dataframe tbody tr th {\n",
       "        vertical-align: top;\n",
       "    }\n",
       "\n",
       "    .dataframe thead th {\n",
       "        text-align: right;\n",
       "    }\n",
       "</style>\n",
       "<table border=\"1\" class=\"dataframe\">\n",
       "  <thead>\n",
       "    <tr style=\"text-align: right;\">\n",
       "      <th></th>\n",
       "      <th>Date</th>\n",
       "      <th>Open</th>\n",
       "      <th>High</th>\n",
       "      <th>Low</th>\n",
       "      <th>Close</th>\n",
       "      <th>Adj Close</th>\n",
       "      <th>Volume</th>\n",
       "      <th>Label</th>\n",
       "      <th>News_Headlines</th>\n",
       "      <th>News Processed</th>\n",
       "      <th>Tokens</th>\n",
       "      <th>Sentiment</th>\n",
       "      <th>Month</th>\n",
       "      <th>Year</th>\n",
       "    </tr>\n",
       "  </thead>\n",
       "  <tbody>\n",
       "    <tr>\n",
       "      <th>0</th>\n",
       "      <td>13062012</td>\n",
       "      <td>27.660000</td>\n",
       "      <td>28.10</td>\n",
       "      <td>27.100000</td>\n",
       "      <td>27.270000</td>\n",
       "      <td>27.270000</td>\n",
       "      <td>17102800</td>\n",
       "      <td>0</td>\n",
       "      <td>A New Zealand family who believed their teenag...</td>\n",
       "      <td>a new zealand family who believed their teenag...</td>\n",
       "      <td>[new, zealand, family, believe, teenage, daugh...</td>\n",
       "      <td>NEGATIVE</td>\n",
       "      <td>06</td>\n",
       "      <td>2012</td>\n",
       "    </tr>\n",
       "    <tr>\n",
       "      <th>1</th>\n",
       "      <td>15062012</td>\n",
       "      <td>28.510000</td>\n",
       "      <td>30.10</td>\n",
       "      <td>28.350000</td>\n",
       "      <td>30.010000</td>\n",
       "      <td>30.010000</td>\n",
       "      <td>43563800</td>\n",
       "      <td>1</td>\n",
       "      <td>Indonesian man jailed for two-and-a-half years...</td>\n",
       "      <td>indonesian man jailed for twoandahalf years fo...</td>\n",
       "      <td>[indonesian, man, jail, twoandahalf, year, wri...</td>\n",
       "      <td>NEGATIVE</td>\n",
       "      <td>06</td>\n",
       "      <td>2012</td>\n",
       "    </tr>\n",
       "    <tr>\n",
       "      <th>2</th>\n",
       "      <td>13072012</td>\n",
       "      <td>31.040001</td>\n",
       "      <td>31.07</td>\n",
       "      <td>30.559999</td>\n",
       "      <td>30.719999</td>\n",
       "      <td>30.719999</td>\n",
       "      <td>8108300</td>\n",
       "      <td>1</td>\n",
       "      <td>Iranian father arrested for son's facebook pag...</td>\n",
       "      <td>iranian father arrested for sons facebook page...</td>\n",
       "      <td>[iranian, father, arrest, son, facebook, page,...</td>\n",
       "      <td>NEGATIVE</td>\n",
       "      <td>07</td>\n",
       "      <td>2012</td>\n",
       "    </tr>\n",
       "    <tr>\n",
       "      <th>3</th>\n",
       "      <td>19072012</td>\n",
       "      <td>29.410000</td>\n",
       "      <td>29.50</td>\n",
       "      <td>28.629999</td>\n",
       "      <td>29.000000</td>\n",
       "      <td>29.000000</td>\n",
       "      <td>13685100</td>\n",
       "      <td>1</td>\n",
       "      <td>Australian Government Moves to Expand Surveill...</td>\n",
       "      <td>australian government moves to expand surveill...</td>\n",
       "      <td>[australian, government, move, expand, surveil...</td>\n",
       "      <td>NEGATIVE</td>\n",
       "      <td>07</td>\n",
       "      <td>2012</td>\n",
       "    </tr>\n",
       "    <tr>\n",
       "      <th>4</th>\n",
       "      <td>10082012</td>\n",
       "      <td>21.410000</td>\n",
       "      <td>21.82</td>\n",
       "      <td>21.129999</td>\n",
       "      <td>21.809999</td>\n",
       "      <td>21.809999</td>\n",
       "      <td>25794700</td>\n",
       "      <td>1</td>\n",
       "      <td>Facebook 'should help pay for illegal parties'...</td>\n",
       "      <td>facebook should help pay for illegal parties a...</td>\n",
       "      <td>[facebook, help, pay, illegal, party, accord, ...</td>\n",
       "      <td>NEGATIVE</td>\n",
       "      <td>08</td>\n",
       "      <td>2012</td>\n",
       "    </tr>\n",
       "  </tbody>\n",
       "</table>\n",
       "</div>"
      ],
      "text/plain": [
       "       Date       Open   High        Low      Close  Adj Close    Volume  \\\n",
       "0  13062012  27.660000  28.10  27.100000  27.270000  27.270000  17102800   \n",
       "1  15062012  28.510000  30.10  28.350000  30.010000  30.010000  43563800   \n",
       "2  13072012  31.040001  31.07  30.559999  30.719999  30.719999   8108300   \n",
       "3  19072012  29.410000  29.50  28.629999  29.000000  29.000000  13685100   \n",
       "4  10082012  21.410000  21.82  21.129999  21.809999  21.809999  25794700   \n",
       "\n",
       "   Label                                     News_Headlines  \\\n",
       "0      0  A New Zealand family who believed their teenag...   \n",
       "1      1  Indonesian man jailed for two-and-a-half years...   \n",
       "2      1  Iranian father arrested for son's facebook pag...   \n",
       "3      1  Australian Government Moves to Expand Surveill...   \n",
       "4      1  Facebook 'should help pay for illegal parties'...   \n",
       "\n",
       "                                      News Processed  \\\n",
       "0  a new zealand family who believed their teenag...   \n",
       "1  indonesian man jailed for twoandahalf years fo...   \n",
       "2  iranian father arrested for sons facebook page...   \n",
       "3  australian government moves to expand surveill...   \n",
       "4  facebook should help pay for illegal parties a...   \n",
       "\n",
       "                                              Tokens Sentiment Month  Year  \n",
       "0  [new, zealand, family, believe, teenage, daugh...  NEGATIVE    06  2012  \n",
       "1  [indonesian, man, jail, twoandahalf, year, wri...  NEGATIVE    06  2012  \n",
       "2  [iranian, father, arrest, son, facebook, page,...  NEGATIVE    07  2012  \n",
       "3  [australian, government, move, expand, surveil...  NEGATIVE    07  2012  \n",
       "4  [facebook, help, pay, illegal, party, accord, ...  NEGATIVE    08  2012  "
      ]
     },
     "execution_count": 428,
     "metadata": {},
     "output_type": "execute_result"
    }
   ],
   "source": [
    "data_for_analysis.head(5)"
   ]
  },
  {
   "cell_type": "code",
   "execution_count": 429,
   "id": "f9548263-66ea-481b-b28a-cf1c6076a114",
   "metadata": {},
   "outputs": [
    {
     "data": {
      "text/plain": [
       "137"
      ]
     },
     "execution_count": 429,
     "metadata": {},
     "output_type": "execute_result"
    }
   ],
   "source": [
    "len(data_for_analysis)"
   ]
  },
  {
   "cell_type": "code",
   "execution_count": 485,
   "id": "791e2813-4a0c-475d-962c-91d4995d7c96",
   "metadata": {},
   "outputs": [],
   "source": [
    "### Now Train and Test Split\n",
    "train = data_for_analysis.iloc[:110,:]\n",
    "test = data_for_analysis.iloc[101:,:]"
   ]
  },
  {
   "cell_type": "code",
   "execution_count": 486,
   "id": "91f3e794-eeff-4b59-9e53-89daac4b1086",
   "metadata": {},
   "outputs": [
    {
     "data": {
      "text/html": [
       "<div>\n",
       "<style scoped>\n",
       "    .dataframe tbody tr th:only-of-type {\n",
       "        vertical-align: middle;\n",
       "    }\n",
       "\n",
       "    .dataframe tbody tr th {\n",
       "        vertical-align: top;\n",
       "    }\n",
       "\n",
       "    .dataframe thead th {\n",
       "        text-align: right;\n",
       "    }\n",
       "</style>\n",
       "<table border=\"1\" class=\"dataframe\">\n",
       "  <thead>\n",
       "    <tr style=\"text-align: right;\">\n",
       "      <th></th>\n",
       "      <th>Date</th>\n",
       "      <th>Open</th>\n",
       "      <th>High</th>\n",
       "      <th>Low</th>\n",
       "      <th>Close</th>\n",
       "      <th>Adj Close</th>\n",
       "      <th>Volume</th>\n",
       "      <th>Label</th>\n",
       "      <th>News_Headlines</th>\n",
       "      <th>News Processed</th>\n",
       "      <th>Tokens</th>\n",
       "      <th>Sentiment</th>\n",
       "      <th>Month</th>\n",
       "      <th>Year</th>\n",
       "    </tr>\n",
       "  </thead>\n",
       "  <tbody>\n",
       "    <tr>\n",
       "      <th>101</th>\n",
       "      <td>20052015</td>\n",
       "      <td>80.470001</td>\n",
       "      <td>81.099998</td>\n",
       "      <td>79.459999</td>\n",
       "      <td>80.550003</td>\n",
       "      <td>80.550003</td>\n",
       "      <td>23056900</td>\n",
       "      <td>0</td>\n",
       "      <td>Facebook criticised for creating 'two tier int...</td>\n",
       "      <td>facebook criticised for creating two tier inte...</td>\n",
       "      <td>[facebook, criticise, create, tier, internet, ...</td>\n",
       "      <td>NEGATIVE</td>\n",
       "      <td>05</td>\n",
       "      <td>2015</td>\n",
       "    </tr>\n",
       "    <tr>\n",
       "      <th>102</th>\n",
       "      <td>10062015</td>\n",
       "      <td>80.830002</td>\n",
       "      <td>82.599998</td>\n",
       "      <td>80.809998</td>\n",
       "      <td>82.160004</td>\n",
       "      <td>82.160004</td>\n",
       "      <td>21531200</td>\n",
       "      <td>1</td>\n",
       "      <td>'The biggest leak in Polish history'. Thousand...</td>\n",
       "      <td>the biggest leak in polish history thousands o...</td>\n",
       "      <td>[biggest, leak, polish, history, thousand, pag...</td>\n",
       "      <td>NEGATIVE</td>\n",
       "      <td>06</td>\n",
       "      <td>2015</td>\n",
       "    </tr>\n",
       "    <tr>\n",
       "      <th>103</th>\n",
       "      <td>13072015</td>\n",
       "      <td>88.660004</td>\n",
       "      <td>90.220001</td>\n",
       "      <td>88.419998</td>\n",
       "      <td>90.099998</td>\n",
       "      <td>90.099998</td>\n",
       "      <td>29976700</td>\n",
       "      <td>1</td>\n",
       "      <td>Ethiopian LGBT Activist Banned by Facebook Und...</td>\n",
       "      <td>ethiopian lgbt activist banned by facebook und...</td>\n",
       "      <td>[ethiopian, lgbt, activist, ban, facebook, rea...</td>\n",
       "      <td>NEGATIVE</td>\n",
       "      <td>07</td>\n",
       "      <td>2015</td>\n",
       "    </tr>\n",
       "    <tr>\n",
       "      <th>104</th>\n",
       "      <td>30072015</td>\n",
       "      <td>94.910004</td>\n",
       "      <td>95.809998</td>\n",
       "      <td>91.800003</td>\n",
       "      <td>95.209999</td>\n",
       "      <td>95.209999</td>\n",
       "      <td>86211300</td>\n",
       "      <td>0</td>\n",
       "      <td>Spanish man fined up to 600 under new gag laws...</td>\n",
       "      <td>spanish man fined up to under new gag laws for...</td>\n",
       "      <td>[spanish, man, fin, new, gag, law, call, polic...</td>\n",
       "      <td>NEGATIVE</td>\n",
       "      <td>07</td>\n",
       "      <td>2015</td>\n",
       "    </tr>\n",
       "    <tr>\n",
       "      <th>105</th>\n",
       "      <td>30072015</td>\n",
       "      <td>94.910004</td>\n",
       "      <td>95.809998</td>\n",
       "      <td>91.800003</td>\n",
       "      <td>95.209999</td>\n",
       "      <td>95.209999</td>\n",
       "      <td>86211300</td>\n",
       "      <td>0</td>\n",
       "      <td>Facebook ordered to allow fake user names in G...</td>\n",
       "      <td>facebook ordered to allow fake user names in g...</td>\n",
       "      <td>[facebook, order, allow, fake, user, name, ger...</td>\n",
       "      <td>NEGATIVE</td>\n",
       "      <td>07</td>\n",
       "      <td>2015</td>\n",
       "    </tr>\n",
       "  </tbody>\n",
       "</table>\n",
       "</div>"
      ],
      "text/plain": [
       "         Date       Open       High        Low      Close  Adj Close  \\\n",
       "101  20052015  80.470001  81.099998  79.459999  80.550003  80.550003   \n",
       "102  10062015  80.830002  82.599998  80.809998  82.160004  82.160004   \n",
       "103  13072015  88.660004  90.220001  88.419998  90.099998  90.099998   \n",
       "104  30072015  94.910004  95.809998  91.800003  95.209999  95.209999   \n",
       "105  30072015  94.910004  95.809998  91.800003  95.209999  95.209999   \n",
       "\n",
       "       Volume  Label                                     News_Headlines  \\\n",
       "101  23056900      0  Facebook criticised for creating 'two tier int...   \n",
       "102  21531200      1  'The biggest leak in Polish history'. Thousand...   \n",
       "103  29976700      1  Ethiopian LGBT Activist Banned by Facebook Und...   \n",
       "104  86211300      0  Spanish man fined up to 600 under new gag laws...   \n",
       "105  86211300      0  Facebook ordered to allow fake user names in G...   \n",
       "\n",
       "                                        News Processed  \\\n",
       "101  facebook criticised for creating two tier inte...   \n",
       "102  the biggest leak in polish history thousands o...   \n",
       "103  ethiopian lgbt activist banned by facebook und...   \n",
       "104  spanish man fined up to under new gag laws for...   \n",
       "105  facebook ordered to allow fake user names in g...   \n",
       "\n",
       "                                                Tokens Sentiment Month  Year  \n",
       "101  [facebook, criticise, create, tier, internet, ...  NEGATIVE    05  2015  \n",
       "102  [biggest, leak, polish, history, thousand, pag...  NEGATIVE    06  2015  \n",
       "103  [ethiopian, lgbt, activist, ban, facebook, rea...  NEGATIVE    07  2015  \n",
       "104  [spanish, man, fin, new, gag, law, call, polic...  NEGATIVE    07  2015  \n",
       "105  [facebook, order, allow, fake, user, name, ger...  NEGATIVE    07  2015  "
      ]
     },
     "execution_count": 486,
     "metadata": {},
     "output_type": "execute_result"
    }
   ],
   "source": [
    "test.head(5)"
   ]
  },
  {
   "cell_type": "code",
   "execution_count": 487,
   "id": "a608935d-f912-46c9-9eb3-d0d55100d600",
   "metadata": {},
   "outputs": [],
   "source": [
    "headlines = []\n",
    "for row in range(0,len(train.index)):\n",
    "    headlines.append(' '.join(str(x) for x in train.iloc[row,[1,2,3,4,5,6,9,11]]))"
   ]
  },
  {
   "cell_type": "code",
   "execution_count": 478,
   "id": "97ace262-5736-416a-8fd4-e3fdc1de4388",
   "metadata": {},
   "outputs": [],
   "source": [
    "from sklearn.feature_extraction.text import CountVectorizer\n",
    "from sklearn.ensemble import RandomForestClassifier"
   ]
  },
  {
   "cell_type": "code",
   "execution_count": 488,
   "id": "cf64f3cd-f72b-41aa-bd30-d2e94009fac9",
   "metadata": {},
   "outputs": [],
   "source": [
    "## implement BAG OF WORDS\n",
    "countvector=CountVectorizer(ngram_range=(2,2))\n",
    "traindataset=countvector.fit_transform(headlines)"
   ]
  },
  {
   "cell_type": "code",
   "execution_count": 489,
   "id": "b78cabb4-0591-4469-a9d7-ced05b89f772",
   "metadata": {},
   "outputs": [
    {
     "data": {
      "text/plain": [
       "RandomForestClassifier(criterion='entropy', n_estimators=200)"
      ]
     },
     "execution_count": 489,
     "metadata": {},
     "output_type": "execute_result"
    }
   ],
   "source": [
    "randomclassifier=RandomForestClassifier(n_estimators=200,criterion='entropy')\n",
    "randomclassifier.fit(traindataset,train['Label'])"
   ]
  },
  {
   "cell_type": "code",
   "execution_count": 490,
   "id": "2170b76d-c587-4d0b-83e4-872728e0e5ec",
   "metadata": {},
   "outputs": [
    {
     "name": "stderr",
     "output_type": "stream",
     "text": [
      "C:\\Users\\616777\\Anaconda3\\envs\\pyton_test\\lib\\site-packages\\ipykernel_launcher.py:7: SettingWithCopyWarning: \n",
      "A value is trying to be set on a copy of a slice from a DataFrame.\n",
      "Try using .loc[row_indexer,col_indexer] = value instead\n",
      "\n",
      "See the caveats in the documentation: https://pandas.pydata.org/pandas-docs/stable/user_guide/indexing.html#returning-a-view-versus-a-copy\n",
      "  import sys\n"
     ]
    }
   ],
   "source": [
    "## Predict for the Test Dataset\n",
    "test_data= []\n",
    "for row in range(0,len(test.index)):\n",
    "    test_data.append(' '.join(str(x) for x in test.iloc[row,[1,2,3,4,5,6,9,11]]))\n",
    "test_dataset = countvector.transform(test_data)\n",
    "prediction = randomclassifier.predict(test_dataset)\n",
    "test[\"Predicted\"] = prediction"
   ]
  },
  {
   "cell_type": "code",
   "execution_count": null,
   "id": "06bd9caa-150a-4102-ab50-024aa6b29b86",
   "metadata": {},
   "outputs": [],
   "source": []
  },
  {
   "cell_type": "code",
   "execution_count": null,
   "id": "d5fda51f-b591-45b6-b39b-6e705505d283",
   "metadata": {},
   "outputs": [],
   "source": [
    "## Accuracy Calculation"
   ]
  },
  {
   "cell_type": "code",
   "execution_count": 491,
   "id": "bcd698b0-3341-4c4d-991b-e0729c012bb9",
   "metadata": {},
   "outputs": [
    {
     "name": "stdout",
     "output_type": "stream",
     "text": [
      "[[12  4]\n",
      " [11  9]]\n"
     ]
    }
   ],
   "source": [
    "matrix_confusion=confusion_matrix(test['Label'],prediction)\n",
    "print(matrix_confusion)"
   ]
  },
  {
   "cell_type": "code",
   "execution_count": 492,
   "id": "605e0413-6f3b-47e5-812a-cefac5dca8d6",
   "metadata": {},
   "outputs": [
    {
     "name": "stdout",
     "output_type": "stream",
     "text": [
      "0.5833333333333334\n"
     ]
    }
   ],
   "source": [
    "score_cal=accuracy_score(test['Label'],prediction)\n",
    "print(score_cal)"
   ]
  },
  {
   "cell_type": "code",
   "execution_count": 493,
   "id": "7ad73b78-4863-421c-99ba-9a920a822aa3",
   "metadata": {},
   "outputs": [
    {
     "name": "stdout",
     "output_type": "stream",
     "text": [
      "              precision    recall  f1-score   support\n",
      "\n",
      "           0       0.44      0.94      0.60        16\n",
      "           1       0.50      0.05      0.09        20\n",
      "\n",
      "    accuracy                           0.44        36\n",
      "   macro avg       0.47      0.49      0.35        36\n",
      "weighted avg       0.47      0.44      0.32        36\n",
      "\n"
     ]
    }
   ],
   "source": [
    "report=classification_report(test['Label'],predictions)\n",
    "print(report)"
   ]
  },
  {
   "cell_type": "code",
   "execution_count": 509,
   "id": "ee673a72-d0e0-408f-87c7-621ae6eb11f6",
   "metadata": {},
   "outputs": [
    {
     "data": {
      "image/png": "[encoded data removed]",
      "text/plain": [
       "<Figure size 432x288 with 1 Axes>"
      ]
     },
     "metadata": {
      "needs_background": "light"
     },
     "output_type": "display_data"
    }
   ],
   "source": [
    "### stockmovement in year 2015\n",
    "df_plot_month = test[test['Year'] == '2015']['Month'].unique()\n",
    "df_plot_month = list(df_plot_month)\n",
    "df_plot_2015 = test[test['Year'] == '2015'].groupby(\"Month\")['Label'].mean()\n",
    "df_plot_2015 = list(df_plot_2015)\n",
    "df_plot_2015_p = test[test['Year'] == '2015'].groupby(\"Month\")['Predicted'].mean()\n",
    "df_plot_2015_p = list(df_plot_2015_p)\n",
    "plt.plot(df_plot_month, df_plot_2015, label = \"orginal\")\n",
    "plt.plot(df_plot_month, df_plot_2015_p, label = \"predicted\")\n",
    "plt.xlabel('Month')\n",
    "# Set the y axis label of the current axis.\n",
    "plt.ylabel('Stock Scale')\n",
    "# Set a title of the current axes.\n",
    "plt.title('Stock movement orginal vs predicited for year 2015 ')\n",
    "# show a legend on the plot\n",
    "plt.legend()\n",
    "# Display a figure.\n",
    "plt.show()"
   ]
  },
  {
   "cell_type": "code",
   "execution_count": 510,
   "id": "b75a32dd-4986-4271-9209-39bf6f43d43c",
   "metadata": {},
   "outputs": [
    {
     "data": {
      "image/png": "[encoded data removed]",
      "text/plain": [
       "<Figure size 432x288 with 1 Axes>"
      ]
     },
     "metadata": {
      "needs_background": "light"
     },
     "output_type": "display_data"
    }
   ],
   "source": [
    "### stockmovement in year 2016\n",
    "df_plot_month = test[test['Year'] == '2016']['Month'].unique()\n",
    "df_plot_month = list(df_plot_month)\n",
    "df_plot_2016 = test[test['Year'] == '2016'].groupby(\"Month\")['Label'].mean()\n",
    "df_plot_2016 = list(df_plot_2016)\n",
    "df_plot_2016_p = test[test['Year'] == '2016'].groupby(\"Month\")['Predicted'].mean()\n",
    "df_plot_2016_p = list(df_plot_2016_p)\n",
    "plt.plot(df_plot_month, df_plot_2016, label = \"orginal\")\n",
    "plt.plot(df_plot_month, df_plot_2016_p, label = \"predicted\")\n",
    "plt.xlabel('Month')\n",
    "# Set the y axis label of the current axis.\n",
    "plt.ylabel('Stock Scale')\n",
    "# Set a title of the current axes.\n",
    "plt.title('Stock movement orginal vs predicited for year 2016 ')\n",
    "# show a legend on the plot\n",
    "plt.legend()\n",
    "# Display a figure.\n",
    "plt.show()"
   ]
  },
  {
   "cell_type": "code",
   "execution_count": null,
   "id": "a1f2eb4c-326d-4194-aebb-9df0b387c586",
   "metadata": {},
   "outputs": [],
   "source": []
  },
  {
   "cell_type": "code",
   "execution_count": null,
   "id": "84441b77-76a9-4cf6-9acc-3582dbb1e9e2",
   "metadata": {},
   "outputs": [],
   "source": []
  },
  {
   "cell_type": "code",
   "execution_count": null,
   "id": "4748d321-8bd7-4805-a6ec-2cd088e1e591",
   "metadata": {},
   "outputs": [],
   "source": []
  },
  {
   "cell_type": "code",
   "execution_count": null,
   "id": "67847509-b0b5-4cc9-be6b-f9d0112627fe",
   "metadata": {},
   "outputs": [],
   "source": []
  },
  {
   "cell_type": "code",
   "execution_count": null,
   "id": "a3422afc-5d38-42d7-83ca-b043c36dfa0d",
   "metadata": {},
   "outputs": [],
   "source": []
  },
  {
   "cell_type": "code",
   "execution_count": null,
   "id": "59a8c874-c96f-4f80-89c9-d1d7d7b2e3dd",
   "metadata": {},
   "outputs": [],
   "source": []
  },
  {
   "cell_type": "code",
   "execution_count": null,
   "id": "f647b8a8-4028-4578-b0f5-f80d643e9cbe",
   "metadata": {},
   "outputs": [],
   "source": []
  },
  {
   "cell_type": "code",
   "execution_count": null,
   "id": "a879ac93-d78f-40f1-aa1c-c00d1369544b",
   "metadata": {},
   "outputs": [],
   "source": []
  },
  {
   "cell_type": "code",
   "execution_count": null,
   "id": "910fa734-cfc5-47ef-9862-24ddc0b8e87c",
   "metadata": {},
   "outputs": [],
   "source": []
  },
  {
   "cell_type": "code",
   "execution_count": null,
   "id": "57e98a93-8990-434d-92fd-ea1285ea9638",
   "metadata": {},
   "outputs": [],
   "source": []
  },
  {
   "cell_type": "code",
   "execution_count": null,
   "id": "3d903b59-376c-4040-8af1-0f08da4f97ee",
   "metadata": {},
   "outputs": [],
   "source": []
  },
  {
   "cell_type": "code",
   "execution_count": null,
   "id": "8b3962b3-00fa-49b9-8075-040d0c0f2e96",
   "metadata": {},
   "outputs": [],
   "source": []
  },
  {
   "cell_type": "code",
   "execution_count": null,
   "id": "d2bece18-2c6e-4c5b-a5fd-8ce0f3072d2b",
   "metadata": {},
   "outputs": [],
   "source": []
  },
  {
   "cell_type": "code",
   "execution_count": null,
   "id": "3de8188c-68c0-41d5-884b-440f74ca6898",
   "metadata": {},
   "outputs": [],
   "source": []
  },
  {
   "cell_type": "code",
   "execution_count": null,
   "id": "15c283e0-0ea0-42bc-b477-2678c33bf33d",
   "metadata": {},
   "outputs": [],
   "source": []
  },
  {
   "cell_type": "code",
   "execution_count": null,
   "id": "fe5bcab1-b146-49c4-9371-3edea9d7c7d9",
   "metadata": {},
   "outputs": [],
   "source": []
  },
  {
   "cell_type": "code",
   "execution_count": null,
   "id": "3de20f0f-b8a9-44fa-bd67-646d21cb9eb1",
   "metadata": {},
   "outputs": [],
   "source": []
  },
  {
   "cell_type": "code",
   "execution_count": null,
   "id": "1854b78a-d32f-405f-b351-a15a0b5c2267",
   "metadata": {},
   "outputs": [],
   "source": []
  },
  {
   "cell_type": "code",
   "execution_count": null,
   "id": "b9256a99-ab36-4748-b5b2-1c72e9ec2bb9",
   "metadata": {},
   "outputs": [],
   "source": []
  },
  {
   "cell_type": "code",
   "execution_count": null,
   "id": "d8eb4e80-a7f9-43de-8363-3b934f25553a",
   "metadata": {},
   "outputs": [],
   "source": []
  },
  {
   "cell_type": "code",
   "execution_count": null,
   "id": "099c8492-37d7-4be0-8765-c7a99873c6f4",
   "metadata": {},
   "outputs": [],
   "source": []
  }
 ],
 "metadata": {
  "kernelspec": {
   "display_name": "Python 3",
   "language": "python",
   "name": "python3"
  },
  "language_info": {
   "codemirror_mode": {
    "name": "ipython",
    "version": 3
   },
   "file_extension": ".py",
   "mimetype": "text/x-python",
   "name": "python",
   "nbconvert_exporter": "python",
   "pygments_lexer": "ipython3",
   "version": "3.7.10"
  }
 },
 "nbformat": 4,
 "nbformat_minor": 5
}
